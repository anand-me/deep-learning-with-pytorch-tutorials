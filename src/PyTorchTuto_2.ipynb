{
  "nbformat": 4,
  "nbformat_minor": 0,
  "metadata": {
    "colab": {
      "provenance": [],
      "gpuType": "T4"
    },
    "kernelspec": {
      "name": "python3",
      "display_name": "Python 3"
    },
    "language_info": {
      "name": "python"
    },
    "accelerator": "GPU"
  },
  "cells": [
    {
      "cell_type": "markdown",
      "source": [
        "# PyTorchTuto_2.ipynb\n",
        "\n",
        "## Author: Akshay Anand, PhD Candidate  \n",
        "**Florida State University (2021 - 20XX)**\n",
        "[*Github*](https://github.com/anand-me)\n",
        "---\n",
        "\n",
        "## Introduction  \n",
        "\n",
        "Welcome to the second notebook in the PyTorch tutorial series! In this session, we will build upon the concepts introduced in the first notebook and dive deeper into PyTorch's capabilities.  \n",
        "\n",
        "This notebook will focus on:  \n",
        "1. **Autograd and Automatic Differentiation**  \n",
        "   - Understanding Gradients  \n",
        "   - Computational Graphs  \n",
        "   - Gradients Tracking and Management  \n",
        "\n",
        "By the end of this notebook, you will understand how PyTorch handles automatic differentiation, which is essential for training machine learning models.  \n",
        "\n",
        "---\n",
        "\n",
        "Let’s get started!"
      ],
      "metadata": {
        "id": "2vcdcvdpQrJy"
      }
    },
    {
      "cell_type": "markdown",
      "source": [
        "<a href=\"https://colab.research.google.com/github/anand-me/deep-learning-with-pytorch-tutorials/blob/main/src/PyTorchTuto_2.ipynb\" target=\"_blank\">\n",
        "  <img src=\"https://colab.research.google.com/assets/colab-badge.svg\" alt=\"Open In Colab\"/>\n",
        "</a>"
      ],
      "metadata": {
        "id": "DVpzLWwAVvsG"
      }
    },
    {
      "cell_type": "code",
      "source": [
        "import torch\n",
        "import matplotlib.pyplot as plt\n",
        "import numpy as np\n",
        "\n",
        "print(\"PyTorch version:\", torch.__version__)"
      ],
      "metadata": {
        "colab": {
          "base_uri": "https://localhost:8080/"
        },
        "id": "aUytQ2cQRG7a",
        "outputId": "8ee571e4-304b-45c2-efe1-440c59eb7544"
      },
      "execution_count": null,
      "outputs": [
        {
          "output_type": "stream",
          "name": "stdout",
          "text": [
            "PyTorch version: 2.6.0+cu124\n"
          ]
        }
      ]
    },
    {
      "cell_type": "code",
      "source": [
        "# Setting seeds for reproducibility\n",
        "torch.manual_seed(42)\n",
        "np.random.seed(42)\n",
        "\n",
        "# Enable plots in the notebook\n",
        "%matplotlib inline"
      ],
      "metadata": {
        "id": "fkhLyAeIRnaG"
      },
      "execution_count": null,
      "outputs": []
    },
    {
      "cell_type": "code",
      "source": [
        "# ===================================\n",
        "# 1. Understanding Gradients\n",
        "# ===================================\n",
        "\n",
        "print(\"\\n\" + \"=\"*50)\n",
        "print(\"1. UNDERSTANDING GRADIENTS\")\n",
        "print(\"=\"*50)"
      ],
      "metadata": {
        "colab": {
          "base_uri": "https://localhost:8080/"
        },
        "id": "v8XsTwnvRzFl",
        "outputId": "4ee4d881-a9f9-4165-dbb8-e275e669569c"
      },
      "execution_count": null,
      "outputs": [
        {
          "output_type": "stream",
          "name": "stdout",
          "text": [
            "\n",
            "==================================================\n",
            "1. UNDERSTANDING GRADIENTS\n",
            "==================================================\n"
          ]
        }
      ]
    },
    {
      "cell_type": "code",
      "source": [
        "# Create a tensor with requires_grad=True to track computations\n",
        "x = torch.tensor(2.0, requires_grad=True)\n",
        "print(f\"x = {x}, requires_grad = {x.requires_grad}\")"
      ],
      "metadata": {
        "colab": {
          "base_uri": "https://localhost:8080/"
        },
        "id": "8uXh3jDHR1Ww",
        "outputId": "afd54ba6-4c4d-4556-ada2-011cbc7801f4"
      },
      "execution_count": null,
      "outputs": [
        {
          "output_type": "stream",
          "name": "stdout",
          "text": [
            "x = 2.0, requires_grad = True\n"
          ]
        }
      ]
    },
    {
      "cell_type": "code",
      "source": [
        "# Perform a simple computation\n",
        "y = x ** 2 + 3*x + 1\n",
        "print(f\"y = x^2 + 3x + 1 = {y}\")"
      ],
      "metadata": {
        "colab": {
          "base_uri": "https://localhost:8080/"
        },
        "id": "xRDUQjc4R59m",
        "outputId": "73c099c2-ef98-4805-da6e-1326a7c745c2"
      },
      "execution_count": null,
      "outputs": [
        {
          "output_type": "stream",
          "name": "stdout",
          "text": [
            "y = x^2 + 3x + 1 = 11.0\n"
          ]
        }
      ]
    },
    {
      "cell_type": "code",
      "source": [
        "# Compute the gradient dy/dx\n",
        "y.backward()"
      ],
      "metadata": {
        "id": "ywvpH-wAR8z-"
      },
      "execution_count": null,
      "outputs": []
    },
    {
      "cell_type": "code",
      "source": [
        "# Access the gradient\n",
        "print(f\"dy/dx at x=2 = {x.grad}\")  # Should be 2x + 3 = 7 at x=2"
      ],
      "metadata": {
        "colab": {
          "base_uri": "https://localhost:8080/"
        },
        "id": "q_pYjhxpSAZV",
        "outputId": "ffafbe06-778c-4318-b893-ddb8278dcef7"
      },
      "execution_count": null,
      "outputs": [
        {
          "output_type": "stream",
          "name": "stdout",
          "text": [
            "dy/dx at x=2 = 7.0\n"
          ]
        }
      ]
    },
    {
      "cell_type": "code",
      "source": [
        "# Let's verify this analytically\n",
        "def f(x_val):\n",
        "    return x_val**2 + 3*x_val + 1"
      ],
      "metadata": {
        "id": "huZ2PY4VSEl4"
      },
      "execution_count": null,
      "outputs": []
    },
    {
      "cell_type": "code",
      "source": [
        "def df_dx(x_val):\n",
        "    return 2*x_val + 3"
      ],
      "metadata": {
        "id": "BtXbq_OBSG1X"
      },
      "execution_count": null,
      "outputs": []
    },
    {
      "cell_type": "code",
      "source": [
        "x_val = 2.0\n",
        "print(f\"Analytical gradient at x=2: {df_dx(x_val)}\")  # Should be 7"
      ],
      "metadata": {
        "colab": {
          "base_uri": "https://localhost:8080/"
        },
        "id": "_wRKBJ7ESI4r",
        "outputId": "1f79a948-3d98-4ef5-d67e-7eb9f9ce89bd"
      },
      "execution_count": null,
      "outputs": [
        {
          "output_type": "stream",
          "name": "stdout",
          "text": [
            "Analytical gradient at x=2: 7.0\n"
          ]
        }
      ]
    },
    {
      "cell_type": "code",
      "source": [
        "# Visualize the function and its gradient\n",
        "x_range = np.linspace(-3, 3, 100)\n",
        "y_range = [f(xi) for xi in x_range]\n",
        "dy_dx_range = [df_dx(xi) for xi in x_range]\n",
        "\n",
        "plt.figure(figsize=(12, 5))"
      ],
      "metadata": {
        "colab": {
          "base_uri": "https://localhost:8080/",
          "height": 52
        },
        "id": "ucuGvD98SOpm",
        "outputId": "2f03bb8b-2b24-440d-c5c6-e0927c943df7"
      },
      "execution_count": null,
      "outputs": [
        {
          "output_type": "execute_result",
          "data": {
            "text/plain": [
              "<Figure size 1200x500 with 0 Axes>"
            ]
          },
          "metadata": {},
          "execution_count": 11
        },
        {
          "output_type": "display_data",
          "data": {
            "text/plain": [
              "<Figure size 1200x500 with 0 Axes>"
            ]
          },
          "metadata": {}
        }
      ]
    },
    {
      "cell_type": "code",
      "source": [
        "plt.subplot(1, 2, 1)\n",
        "plt.plot(x_range, y_range)\n",
        "plt.scatter([2], [f(2)], color='red', s=100)\n",
        "plt.title('f(x) = x^2 + 3x + 1')\n",
        "plt.xlabel('x')\n",
        "plt.ylabel('f(x)')\n",
        "plt.grid(True)\n",
        "\n",
        "plt.subplot(1, 2, 2)\n",
        "plt.plot(x_range, dy_dx_range)\n",
        "plt.scatter([2], [df_dx(2)], color='red', s=100)\n",
        "plt.title('df/dx = 2x + 3')\n",
        "plt.xlabel('x')\n",
        "plt.ylabel('df/dx')\n",
        "plt.grid(True)\n",
        "\n",
        "plt.tight_layout()\n",
        "plt.show()"
      ],
      "metadata": {
        "colab": {
          "base_uri": "https://localhost:8080/",
          "height": 487
        },
        "id": "fWompDooSSyb",
        "outputId": "deb8957f-eb8e-457a-e128-1a30d6a921c4"
      },
      "execution_count": null,
      "outputs": [
        {
          "output_type": "display_data",
          "data": {
            "text/plain": [
              "<Figure size 640x480 with 2 Axes>"
            ],
            "image/png": "[encoded data removed]"
          },
          "metadata": {}
        }
      ]
    },
    {
      "cell_type": "code",
      "source": [
        "# Gradients with vector inputs and outputs\n",
        "# Create a 2D input tensor\n",
        "vec_x = torch.tensor([1.0, 2.0, 3.0], requires_grad=True)\n",
        "print(f\"\\nVector x: {vec_x}\")"
      ],
      "metadata": {
        "colab": {
          "base_uri": "https://localhost:8080/"
        },
        "id": "5mTcxJ8USa6v",
        "outputId": "2960fbf8-2226-4953-986f-a4ea4cc7b880"
      },
      "execution_count": null,
      "outputs": [
        {
          "output_type": "stream",
          "name": "stdout",
          "text": [
            "\n",
            "Vector x: tensor([1., 2., 3.], requires_grad=True)\n"
          ]
        }
      ]
    },
    {
      "cell_type": "code",
      "source": [
        "# Compute a scalar output (sum of squares)\n",
        "vec_y = vec_x.pow(2).sum()\n",
        "print(f\"y = sum(x^2) = {vec_y}\")"
      ],
      "metadata": {
        "colab": {
          "base_uri": "https://localhost:8080/"
        },
        "id": "87dfyZi7Sf8m",
        "outputId": "0f3d6a44-a170-42e6-efbd-3de928ea0683"
      },
      "execution_count": null,
      "outputs": [
        {
          "output_type": "stream",
          "name": "stdout",
          "text": [
            "y = sum(x^2) = 14.0\n"
          ]
        }
      ]
    },
    {
      "cell_type": "code",
      "source": [
        "# Compute gradients\n",
        "vec_y.backward()"
      ],
      "metadata": {
        "id": "FqwppcR7SiWe"
      },
      "execution_count": null,
      "outputs": []
    },
    {
      "cell_type": "code",
      "source": [
        "# The gradient is the vector [2*x_1, 2*x_2, 2*x_3]\n",
        "print(f\"Gradient dy/dx: {vec_x.grad}\")  # Should be [2.0, 4.0, 6.0]"
      ],
      "metadata": {
        "colab": {
          "base_uri": "https://localhost:8080/"
        },
        "id": "5Ysg3gAMSk2z",
        "outputId": "e00303b3-7b0f-4e8b-ea16-3d83ef57fe9c"
      },
      "execution_count": null,
      "outputs": [
        {
          "output_type": "stream",
          "name": "stdout",
          "text": [
            "Gradient dy/dx: tensor([2., 4., 6.])\n"
          ]
        }
      ]
    },
    {
      "cell_type": "code",
      "source": [
        "# Multi-dimensional inputs and outputs\n",
        "# Reset gradients\n",
        "if vec_x.grad is not None:\n",
        "    vec_x.grad.zero_()"
      ],
      "metadata": {
        "id": "U5oPdT_WSoyX"
      },
      "execution_count": null,
      "outputs": []
    },
    {
      "cell_type": "code",
      "source": [
        "# Create a function with vector output\n",
        "z = torch.stack([vec_x[0]**2, vec_x[1]**3, vec_x[2]**4])\n",
        "print(f\"\\nVector output z: {z}\")"
      ],
      "metadata": {
        "colab": {
          "base_uri": "https://localhost:8080/"
        },
        "id": "eVHZz8lLSqm2",
        "outputId": "1d638f41-73cb-4399-a545-404076cef3ba"
      },
      "execution_count": null,
      "outputs": [
        {
          "output_type": "stream",
          "name": "stdout",
          "text": [
            "\n",
            "Vector output z: tensor([ 1.,  8., 81.], grad_fn=<StackBackward0>)\n"
          ]
        }
      ]
    },
    {
      "cell_type": "code",
      "source": [
        "# For vector outputs, we need to specify a vector in the backward method\n",
        "# This vector represents the gradient of a scalar function with respect to z\n",
        "external_grad = torch.tensor([1.0, 1.0, 1.0])\n",
        "z.backward(gradient=external_grad)"
      ],
      "metadata": {
        "id": "7Unt27v5SsjO"
      },
      "execution_count": null,
      "outputs": []
    },
    {
      "cell_type": "code",
      "source": [
        "# The result is a Jacobian-vector product\n",
        "print(f\"Gradient after backward with external gradient: {vec_x.grad}\")"
      ],
      "metadata": {
        "colab": {
          "base_uri": "https://localhost:8080/"
        },
        "id": "LHJPtoj7S0qL",
        "outputId": "ec071aa8-51e9-4830-9826-a5278961c6c8"
      },
      "execution_count": null,
      "outputs": [
        {
          "output_type": "stream",
          "name": "stdout",
          "text": [
            "Gradient after backward with external gradient: tensor([0., 0., 0.])\n"
          ]
        }
      ]
    },
    {
      "cell_type": "code",
      "source": [
        "# ===================================\n",
        "# 2. Computational Graphs\n",
        "# ===================================\n",
        "\n",
        "print(\"\\n\" + \"=\"*50)\n",
        "print(\"2. COMPUTATIONAL GRAPHS\")\n",
        "print(\"=\"*50)\n"
      ],
      "metadata": {
        "colab": {
          "base_uri": "https://localhost:8080/"
        },
        "id": "ApZq60OXT0ck",
        "outputId": "2f941ac8-4ab8-4f17-d338-ede5ac55b86c"
      },
      "execution_count": null,
      "outputs": [
        {
          "output_type": "stream",
          "name": "stdout",
          "text": [
            "\n",
            "==================================================\n",
            "2. COMPUTATIONAL GRAPHS\n",
            "==================================================\n"
          ]
        }
      ]
    },
    {
      "cell_type": "code",
      "source": [
        "# Reset the computation\n",
        "x = torch.tensor(2.0, requires_grad=True)\n",
        "y = torch.tensor(3.0, requires_grad=True)"
      ],
      "metadata": {
        "id": "80LPRzPFT5S0"
      },
      "execution_count": null,
      "outputs": []
    },
    {
      "cell_type": "code",
      "source": [
        "# Build a more complex computation graph\n",
        "z = x**2 + y**3\n",
        "print(f\"z = x^2 + y^3 = {z}\")"
      ],
      "metadata": {
        "colab": {
          "base_uri": "https://localhost:8080/"
        },
        "id": "DCt6LppfT87-",
        "outputId": "66ab3348-95e1-43dd-fbe5-2d0ab23afb29"
      },
      "execution_count": null,
      "outputs": [
        {
          "output_type": "stream",
          "name": "stdout",
          "text": [
            "z = x^2 + y^3 = 31.0\n"
          ]
        }
      ]
    },
    {
      "cell_type": "code",
      "source": [
        "# Compute gradients\n",
        "z.backward()"
      ],
      "metadata": {
        "id": "_Ohyl2HfT_Xo"
      },
      "execution_count": null,
      "outputs": []
    },
    {
      "cell_type": "code",
      "source": [
        "# Access the gradients\n",
        "print(f\"dz/dx = {x.grad}\")  # Should be 2*x = 4\n",
        "print(f\"dz/dy = {y.grad}\")  # Should be 3*y^2 = 27"
      ],
      "metadata": {
        "colab": {
          "base_uri": "https://localhost:8080/"
        },
        "id": "UIgi1jg2UBV-",
        "outputId": "6e11ba0a-7289-4706-e19d-647ed7f28004"
      },
      "execution_count": null,
      "outputs": [
        {
          "output_type": "stream",
          "name": "stdout",
          "text": [
            "dz/dx = 4.0\n",
            "dz/dy = 27.0\n"
          ]
        }
      ]
    },
    {
      "cell_type": "code",
      "source": [
        "# Let's visualize the computation graph\n",
        "print(\"\\nVisualization of the Computation Graph:\")\n",
        "print(\"x (input)       y (input)\")\n",
        "print(\"   |               |\")\n",
        "print(\"   |               |\")\n",
        "print(\"   v               v\")\n",
        "print(\"x^2              y^3\")\n",
        "print(\"   \\\\              /\")\n",
        "print(\"    \\\\            /\")\n",
        "print(\"     \\\\          /\")\n",
        "print(\"      \\\\        /\")\n",
        "print(\"       v      v\")\n",
        "print(\"        z = x^2 + y^3\")\n",
        "print(\"             |\")\n",
        "print(\"             |\")\n",
        "print(\"             v\")\n",
        "print(\"       backward()\")\n",
        "\n",
        "# Retaining the computation graph\n",
        "print(\"\\nRetaining the computation graph:\")"
      ],
      "metadata": {
        "colab": {
          "base_uri": "https://localhost:8080/"
        },
        "id": "gBBiHylUUGYV",
        "outputId": "9e908ef9-9c26-472f-8876-be8de76e3fe3"
      },
      "execution_count": null,
      "outputs": [
        {
          "output_type": "stream",
          "name": "stdout",
          "text": [
            "\n",
            "Visualization of the Computation Graph:\n",
            "x (input)       y (input)\n",
            "   |               |\n",
            "   |               |\n",
            "   v               v\n",
            "x^2              y^3\n",
            "   \\              /\n",
            "    \\            /\n",
            "     \\          /\n",
            "      \\        /\n",
            "       v      v\n",
            "        z = x^2 + y^3\n",
            "             |\n",
            "             |\n",
            "             v\n",
            "       backward()\n",
            "\n",
            "Retaining the computation graph:\n"
          ]
        }
      ]
    },
    {
      "cell_type": "code",
      "source": [
        "# Reset our variables\n",
        "x = torch.tensor(2.0, requires_grad=True)\n",
        "y = torch.tensor(3.0, requires_grad=True)\n",
        "z = x**2 + y**3"
      ],
      "metadata": {
        "id": "92BeloUZUST_"
      },
      "execution_count": null,
      "outputs": []
    },
    {
      "cell_type": "code",
      "source": [
        "# Backward pass with retain_graph=True to keep the graph in memory\n",
        "z.backward(retain_graph=True)\n",
        "print(f\"First backward pass: dz/dx = {x.grad}, dz/dy = {y.grad}\")"
      ],
      "metadata": {
        "colab": {
          "base_uri": "https://localhost:8080/"
        },
        "id": "Qa7LP5UqUXNS",
        "outputId": "b42bcff2-883c-4445-be8a-f0bc0c99d7b9"
      },
      "execution_count": null,
      "outputs": [
        {
          "output_type": "stream",
          "name": "stdout",
          "text": [
            "First backward pass: dz/dx = 4.0, dz/dy = 27.0\n"
          ]
        }
      ]
    },
    {
      "cell_type": "code",
      "source": [
        "# Reset gradients\n",
        "x.grad.zero_()\n",
        "y.grad.zero_()"
      ],
      "metadata": {
        "colab": {
          "base_uri": "https://localhost:8080/"
        },
        "id": "xs332UMYUaqr",
        "outputId": "64524b6a-1b8e-4f1a-fdd8-74d5e0ae677e"
      },
      "execution_count": null,
      "outputs": [
        {
          "output_type": "execute_result",
          "data": {
            "text/plain": [
              "tensor(0.)"
            ]
          },
          "metadata": {},
          "execution_count": 34
        }
      ]
    },
    {
      "cell_type": "code",
      "source": [
        "# Run backward again\n",
        "z.backward()\n",
        "print(f\"Second backward pass: dz/dx = {x.grad}, dz/dy = {y.grad}\")"
      ],
      "metadata": {
        "colab": {
          "base_uri": "https://localhost:8080/"
        },
        "id": "gPspSQAAUdIW",
        "outputId": "452ef5dc-3e8f-472e-9536-6ea8f5ff40ff"
      },
      "execution_count": null,
      "outputs": [
        {
          "output_type": "stream",
          "name": "stdout",
          "text": [
            "Second backward pass: dz/dx = 4.0, dz/dy = 27.0\n"
          ]
        }
      ]
    },
    {
      "cell_type": "code",
      "source": [
        "# Detaching tensors from the computation graph\n",
        "print(\"\\nDetaching tensors from the computation graph:\")"
      ],
      "metadata": {
        "colab": {
          "base_uri": "https://localhost:8080/"
        },
        "id": "fVyBYeX-Uf1j",
        "outputId": "9b5a82d5-60e3-4cbf-8461-0abf25304779"
      },
      "execution_count": null,
      "outputs": [
        {
          "output_type": "stream",
          "name": "stdout",
          "text": [
            "\n",
            "Detaching tensors from the computation graph:\n"
          ]
        }
      ]
    },
    {
      "cell_type": "code",
      "source": [
        "# Reset our variables\n",
        "x = torch.tensor(2.0, requires_grad=True)\n",
        "y = torch.tensor(3.0, requires_grad=True)"
      ],
      "metadata": {
        "id": "ZFC3cJHEUjO6"
      },
      "execution_count": null,
      "outputs": []
    },
    {
      "cell_type": "code",
      "source": [
        "# Detach y from the computation graph\n",
        "y_detached = y.detach()\n",
        "print(f\"y = {y}, requires_grad = {y.requires_grad}\")\n",
        "print(f\"y_detached = {y_detached}, requires_grad = {y_detached.requires_grad}\")"
      ],
      "metadata": {
        "colab": {
          "base_uri": "https://localhost:8080/"
        },
        "id": "wjCJgaFNUlrh",
        "outputId": "0a60def9-bb6b-425f-a25f-a0cb06cb66d2"
      },
      "execution_count": null,
      "outputs": [
        {
          "output_type": "stream",
          "name": "stdout",
          "text": [
            "y = 3.0, requires_grad = True\n",
            "y_detached = 3.0, requires_grad = False\n"
          ]
        }
      ]
    },
    {
      "cell_type": "code",
      "source": [
        "# Compute using the detached tensor\n",
        "z = x**2 + y_detached**3\n",
        "print(f\"z = x^2 + y_detached^3 = {z}\")\n",
        "z.backward()"
      ],
      "metadata": {
        "colab": {
          "base_uri": "https://localhost:8080/"
        },
        "id": "RfGzK82gUonY",
        "outputId": "d302463e-c4eb-46a0-948b-0ab84afb2ad6"
      },
      "execution_count": null,
      "outputs": [
        {
          "output_type": "stream",
          "name": "stdout",
          "text": [
            "z = x^2 + y_detached^3 = 31.0\n"
          ]
        }
      ]
    },
    {
      "cell_type": "code",
      "source": [
        "# Only x has gradient now\n",
        "print(f\"dz/dx = {x.grad}\")\n",
        "print(f\"y.grad = {y.grad}\")  # None or unchanged"
      ],
      "metadata": {
        "colab": {
          "base_uri": "https://localhost:8080/"
        },
        "id": "0SfjypYnUqyo",
        "outputId": "28b88b0a-cbe0-45ee-db1b-910d51f5ef64"
      },
      "execution_count": null,
      "outputs": [
        {
          "output_type": "stream",
          "name": "stdout",
          "text": [
            "dz/dx = 4.0\n",
            "y.grad = None\n"
          ]
        }
      ]
    },
    {
      "cell_type": "code",
      "source": [
        "# Setting requires_grad on existing tensors\n",
        "a = torch.tensor([1.0, 2.0, 3.0])\n",
        "print(f\"\\na = {a}, requires_grad = {a.requires_grad}\")"
      ],
      "metadata": {
        "colab": {
          "base_uri": "https://localhost:8080/"
        },
        "id": "_yfU3v14UsxC",
        "outputId": "e21eeffe-49b9-4b93-c406-d95005e3ef8f"
      },
      "execution_count": null,
      "outputs": [
        {
          "output_type": "stream",
          "name": "stdout",
          "text": [
            "\n",
            "a = tensor([1., 2., 3.]), requires_grad = False\n"
          ]
        }
      ]
    },
    {
      "cell_type": "code",
      "source": [
        "# Set requires_grad=True\n",
        "a.requires_grad_(True)\n",
        "print(f\"After requires_grad_(): a = {a}, requires_grad = {a.requires_grad}\")"
      ],
      "metadata": {
        "colab": {
          "base_uri": "https://localhost:8080/"
        },
        "id": "Mlww_zx6Uu1L",
        "outputId": "902bd842-fed3-409b-85e9-033eb7e0a1a0"
      },
      "execution_count": null,
      "outputs": [
        {
          "output_type": "stream",
          "name": "stdout",
          "text": [
            "After requires_grad_(): a = tensor([1., 2., 3.], requires_grad=True), requires_grad = True\n"
          ]
        }
      ]
    },
    {
      "cell_type": "code",
      "source": [
        "# ===================================\n",
        "# 3. Backpropagation\n",
        "# ===================================\n",
        "\n",
        "print(\"\\n\" + \"=\"*70)\n",
        "print(\"3. BACKPROPAGATION => Linear Regression with Autograd\")\n",
        "print(\"=\"*70)"
      ],
      "metadata": {
        "colab": {
          "base_uri": "https://localhost:8080/"
        },
        "id": "TnasRKurUzMb",
        "outputId": "43a43847-a147-4b08-f389-2921ec1cd7fd"
      },
      "execution_count": null,
      "outputs": [
        {
          "output_type": "stream",
          "name": "stdout",
          "text": [
            "\n",
            "======================================================================\n",
            "3. BACKPROPAGATION => Linear Regression with Autograd\n",
            "======================================================================\n"
          ]
        }
      ]
    },
    {
      "cell_type": "code",
      "source": [
        "# Example: Linear Regression with Autograd\n",
        "print(\"\\nLinear Regression Example with Autograd:\")"
      ],
      "metadata": {
        "colab": {
          "base_uri": "https://localhost:8080/"
        },
        "id": "QXHbl8bXU3p8",
        "outputId": "6bb6c470-882a-465f-9f6e-d68b108299c1"
      },
      "execution_count": null,
      "outputs": [
        {
          "output_type": "stream",
          "name": "stdout",
          "text": [
            "\n",
            "Linear Regression Example with Autograd:\n"
          ]
        }
      ]
    },
    {
      "cell_type": "code",
      "source": [
        "# Generate some data\n",
        "np.random.seed(42)\n",
        "X = np.random.rand(100, 1)\n",
        "y = 3 * X + 2 + 0.1 * np.random.randn(100, 1)  # y = 3x + 2 + noise"
      ],
      "metadata": {
        "id": "DFDLC9waU5fU"
      },
      "execution_count": null,
      "outputs": []
    },
    {
      "cell_type": "code",
      "source": [
        "# Convert to PyTorch tensors\n",
        "X_tensor = torch.tensor(X, dtype=torch.float32)\n",
        "y_tensor = torch.tensor(y, dtype=torch.float32)"
      ],
      "metadata": {
        "id": "6lDbS_QNVCJG"
      },
      "execution_count": null,
      "outputs": []
    },
    {
      "cell_type": "code",
      "source": [
        "# lets visualize the random data\n",
        "plt.figure(figsize=(8, 6))\n",
        "plt.scatter(X, y)\n",
        "plt.title('Generated Data: y = 3x + 2 + noise')\n",
        "plt.xlabel('x')\n",
        "plt.ylabel('y')\n",
        "plt.grid(True)\n",
        "plt.show()"
      ],
      "metadata": {
        "colab": {
          "base_uri": "https://localhost:8080/",
          "height": 564
        },
        "id": "SmwH1frSVE-7",
        "outputId": "f914d299-6926-472a-d322-6b5e881b3128"
      },
      "execution_count": null,
      "outputs": [
        {
          "output_type": "display_data",
          "data": {
            "text/plain": [
              "<Figure size 800x600 with 1 Axes>"
            ],
            "image/png": "[encoded data removed]"
          },
          "metadata": {}
        }
      ]
    },
    {
      "cell_type": "code",
      "source": [
        "# Initialize parameters with requires_grad=True\n",
        "w = torch.tensor(0.0, requires_grad=True)\n",
        "b = torch.tensor(0.0, requires_grad=True)"
      ],
      "metadata": {
        "id": "RKAROR7EVSqI"
      },
      "execution_count": null,
      "outputs": []
    },
    {
      "cell_type": "code",
      "source": [
        "# Hyperparameters\n",
        "learning_rate = 0.1\n",
        "n_epochs = 100"
      ],
      "metadata": {
        "id": "iBAbm8cBVUgd"
      },
      "execution_count": null,
      "outputs": []
    },
    {
      "cell_type": "code",
      "source": [
        "# Lists to store values for plotting\n",
        "loss_history = []\n",
        "w_history = []\n",
        "b_history = []\n",
        "\n",
        "# Training loop\n",
        "for epoch in range(n_epochs):\n",
        "    # Forward pass\n",
        "    y_pred = w * X_tensor + b\n",
        "\n",
        "    # Compute loss (mean squared error)\n",
        "    loss = ((y_pred - y_tensor) ** 2).mean()\n",
        "    loss_history.append(loss.item())\n",
        "\n",
        "    # Store current parameter values\n",
        "    w_history.append(w.item())\n",
        "    b_history.append(b.item())\n",
        "\n",
        "    # Backward pass\n",
        "    loss.backward()\n",
        "\n",
        "    # Update parameters using gradient descent\n",
        "    with torch.no_grad():\n",
        "        w -= learning_rate * w.grad\n",
        "        b -= learning_rate * b.grad\n",
        "\n",
        "        # Zero gradients after updating parameters\n",
        "        w.grad.zero_()\n",
        "        b.grad.zero_()\n",
        "\n",
        "    # Print progress\n",
        "    if (epoch + 1) % 10 == 0:\n",
        "        print(f\"Epoch {epoch+1}/{n_epochs}, Loss: {loss.item():.4f}, w: {w.item():.4f}, b: {b.item():.4f}\")\n",
        "\n",
        "print(f\"\\nFinal parameters: w = {w.item():.4f}, b = {b.item():.4f}\")\n",
        "print(f\"True parameters: w = 3, b = 2\")"
      ],
      "metadata": {
        "colab": {
          "base_uri": "https://localhost:8080/"
        },
        "id": "SBLlFlbQVdPQ",
        "outputId": "c9836c7d-381f-424e-92d2-83232e29e804"
      },
      "execution_count": null,
      "outputs": [
        {
          "output_type": "stream",
          "name": "stdout",
          "text": [
            "Epoch 10/100, Loss: 0.0081, w: 2.9540, b: 2.0215\n",
            "Epoch 20/100, Loss: 0.0081, w: 2.9540, b: 2.0215\n",
            "Epoch 30/100, Loss: 0.0081, w: 2.9540, b: 2.0215\n",
            "Epoch 40/100, Loss: 0.0081, w: 2.9540, b: 2.0215\n",
            "Epoch 50/100, Loss: 0.0081, w: 2.9540, b: 2.0215\n",
            "Epoch 60/100, Loss: 0.0081, w: 2.9540, b: 2.0215\n",
            "Epoch 70/100, Loss: 0.0081, w: 2.9540, b: 2.0215\n",
            "Epoch 80/100, Loss: 0.0081, w: 2.9540, b: 2.0215\n",
            "Epoch 90/100, Loss: 0.0081, w: 2.9540, b: 2.0215\n",
            "Epoch 100/100, Loss: 0.0081, w: 2.9540, b: 2.0215\n",
            "\n",
            "Final parameters: w = 2.9540, b = 2.0215\n",
            "True parameters: w = 3, b = 2\n"
          ]
        }
      ]
    },
    {
      "cell_type": "code",
      "source": [
        "# lets visulaize the results\n",
        "plt.figure(figsize=(15, 5))\n",
        "\n",
        "# Plot 1: Data and fitted line\n",
        "plt.subplot(1, 3, 1)\n",
        "plt.scatter(X, y, alpha=0.7, label='Data')\n",
        "plt.plot(X, w.item() * X + b.item(), 'r', label='Fitted line')\n",
        "plt.plot(X, 3 * X + 2, 'g--', label='True line')\n",
        "plt.title('Linear Regression Result')\n",
        "plt.xlabel('x')\n",
        "plt.ylabel('y')\n",
        "plt.legend()\n",
        "plt.grid(True)\n",
        "\n",
        "# Plot 2: Loss history\n",
        "plt.subplot(1, 3, 2)\n",
        "plt.plot(loss_history)\n",
        "plt.title('Loss History')\n",
        "plt.xlabel('Epoch')\n",
        "plt.ylabel('Loss')\n",
        "plt.grid(True)\n",
        "\n",
        "# Plot 3: Parameter convergence\n",
        "plt.subplot(1, 3, 3)\n",
        "plt.plot(w_history, label='w')\n",
        "plt.plot(b_history, label='b')\n",
        "plt.axhline(y=3, color='r', linestyle='--', label='True w')\n",
        "plt.axhline(y=2, color='g', linestyle='--', label='True b')\n",
        "plt.title('Parameter Convergence')\n",
        "plt.xlabel('Epoch')\n",
        "plt.ylabel('Parameter Value')\n",
        "plt.legend()\n",
        "plt.grid(True)\n",
        "\n",
        "plt.tight_layout()\n",
        "plt.show()"
      ],
      "metadata": {
        "colab": {
          "base_uri": "https://localhost:8080/",
          "height": 507
        },
        "id": "rxKEM5LoVjzg",
        "outputId": "3d5a02e8-96b5-4282-dba8-43e6112ced4d"
      },
      "execution_count": null,
      "outputs": [
        {
          "output_type": "display_data",
          "data": {
            "text/plain": [
              "<Figure size 1500x500 with 3 Axes>"
            ],
            "image/png": "[encoded data removed]"
          },
          "metadata": {}
        }
      ]
    },
    {
      "cell_type": "code",
      "source": [
        "# ===================================\n",
        "# 3. Backpropagation\n",
        "# ===================================\n",
        "\n",
        "print(\"\\n\" + \"=\"*50)\n",
        "print(\" Neural Network with Autograd\")\n",
        "print(\"=\"*50)"
      ],
      "metadata": {
        "colab": {
          "base_uri": "https://localhost:8080/"
        },
        "id": "zygo3V0HWUZY",
        "outputId": "6d3c0bdb-3ce1-48b9-ea37-371858b82d82"
      },
      "execution_count": null,
      "outputs": [
        {
          "output_type": "stream",
          "name": "stdout",
          "text": [
            "\n",
            "==================================================\n",
            " Neural Network with Autograd\n",
            "==================================================\n"
          ]
        }
      ]
    },
    {
      "cell_type": "code",
      "source": [
        "# Example: Neural Network with Autograd\n",
        "print(\"\\nNeural Network Example with Autograd:\")"
      ],
      "metadata": {
        "colab": {
          "base_uri": "https://localhost:8080/"
        },
        "id": "C83-flO5WfFZ",
        "outputId": "b81affd0-3984-4d9a-a5aa-358212281041"
      },
      "execution_count": null,
      "outputs": [
        {
          "output_type": "stream",
          "name": "stdout",
          "text": [
            "\n",
            "Neural Network Example with Autograd:\n"
          ]
        }
      ]
    },
    {
      "cell_type": "code",
      "source": [
        "# Generate some non-linear data\n",
        "np.random.seed(42)\n",
        "X = np.random.rand(200, 1) * 10 - 5  # Range: -5 to 5\n",
        "y = 0.2 * X**3 + 0.5 * X**2 - 2 * X + 3 + 2 * np.random.randn(200, 1)  # Non-linear with noise\n",
        "# Convert to PyTorch tensors\n",
        "X_tensor = torch.tensor(X, dtype=torch.float32)\n",
        "y_tensor = torch.tensor(y, dtype=torch.float32)"
      ],
      "metadata": {
        "id": "CVqC_T3gWgRe"
      },
      "execution_count": null,
      "outputs": []
    },
    {
      "cell_type": "code",
      "source": [
        "# visualize the data\n",
        "plt.figure(figsize=(8, 6))\n",
        "plt.scatter(X, y)\n",
        "plt.title('Non-Linear Data')\n",
        "plt.xlabel('x')\n",
        "plt.ylabel('y')\n",
        "plt.grid(True)\n",
        "plt.show()"
      ],
      "metadata": {
        "colab": {
          "base_uri": "https://localhost:8080/",
          "height": 564
        },
        "id": "ClVZE3iSWmJN",
        "outputId": "28f36fdd-275f-432c-f41c-69d23744e676"
      },
      "execution_count": null,
      "outputs": [
        {
          "output_type": "display_data",
          "data": {
            "text/plain": [
              "<Figure size 800x600 with 1 Axes>"
            ],
            "image/png": "[encoded data removed]"
          },
          "metadata": {}
        }
      ]
    },
    {
      "cell_type": "code",
      "source": [
        "# Initialize parameters for a 2-layer neural network\n",
        "input_size = 1\n",
        "hidden_size = 10\n",
        "output_size = 1"
      ],
      "metadata": {
        "id": "s9Aop6DgWqWc"
      },
      "execution_count": null,
      "outputs": []
    },
    {
      "cell_type": "code",
      "source": [
        "# Layer 1\n",
        "W1 = torch.randn(input_size, hidden_size, requires_grad=True)\n",
        "b1 = torch.zeros(hidden_size, requires_grad=True)\n",
        "\n",
        "# Layer 2\n",
        "W2 = torch.randn(hidden_size, output_size, requires_grad=True)\n",
        "b2 = torch.zeros(output_size, requires_grad=True)"
      ],
      "metadata": {
        "id": "a8aNDwa4WsEQ"
      },
      "execution_count": null,
      "outputs": []
    },
    {
      "cell_type": "code",
      "source": [
        "# Hyperparameters\n",
        "learning_rate = 0.01\n",
        "n_epochs = 1000"
      ],
      "metadata": {
        "id": "E99iw6s8WwJk"
      },
      "execution_count": null,
      "outputs": []
    },
    {
      "cell_type": "code",
      "source": [
        "# Lists to store values for plotting\n",
        "loss_history = []\n",
        "\n",
        "# Training loop\n",
        "for epoch in range(n_epochs):\n",
        "    # Forward pass\n",
        "    # Layer 1\n",
        "    h = torch.tanh(X_tensor @ W1 + b1)\n",
        "\n",
        "    # Layer 2\n",
        "    y_pred = h @ W2 + b2\n",
        "\n",
        "    # Compute loss (mean squared error)\n",
        "    loss = ((y_pred - y_tensor) ** 2).mean()\n",
        "    loss_history.append(loss.item())\n",
        "\n",
        "    # Backward pass\n",
        "    loss.backward()\n",
        "\n",
        "    # Update parameters using gradient descent\n",
        "    with torch.no_grad():\n",
        "        W1 -= learning_rate * W1.grad\n",
        "        b1 -= learning_rate * b1.grad\n",
        "        W2 -= learning_rate * W2.grad\n",
        "        b2 -= learning_rate * b2.grad\n",
        "\n",
        "        # Zero gradients after updating parameters\n",
        "        W1.grad.zero_()\n",
        "        b1.grad.zero_()\n",
        "        W2.grad.zero_()\n",
        "        b2.grad.zero_()\n",
        "\n",
        "    # Print progress\n",
        "    if (epoch + 1) % 100 == 0:\n",
        "        print(f\"Epoch {epoch+1}/{n_epochs}, Loss: {loss.item():.4f}\")\n",
        "\n",
        "print(f\"\\nFinal loss: {loss.item():.4f}\")"
      ],
      "metadata": {
        "colab": {
          "base_uri": "https://localhost:8080/"
        },
        "id": "GFAVr5yCW0V6",
        "outputId": "a85e865d-60db-489c-af73-b7c22a650054"
      },
      "execution_count": null,
      "outputs": [
        {
          "output_type": "stream",
          "name": "stdout",
          "text": [
            "Epoch 100/1000, Loss: 21.7513\n",
            "Epoch 200/1000, Loss: 11.3676\n",
            "Epoch 300/1000, Loss: 7.2200\n",
            "Epoch 400/1000, Loss: 5.7175\n",
            "Epoch 500/1000, Loss: 5.9816\n",
            "Epoch 600/1000, Loss: 5.5678\n",
            "Epoch 700/1000, Loss: 5.3348\n",
            "Epoch 800/1000, Loss: 5.1732\n",
            "Epoch 900/1000, Loss: 5.0419\n",
            "Epoch 1000/1000, Loss: 4.9218\n",
            "\n",
            "Final loss: 4.9218\n"
          ]
        }
      ]
    },
    {
      "cell_type": "code",
      "source": [
        "# Evaluating our model\n",
        "with torch.no_grad():\n",
        "    # Sorting X for smooth plotting\n",
        "    sorted_indices = torch.argsort(X_tensor.squeeze())\n",
        "    X_sorted = X_tensor[sorted_indices]\n",
        "    y_sorted = y_tensor[sorted_indices]\n",
        "\n",
        "    # Forward pass\n",
        "    h = torch.tanh(X_sorted @ W1 + b1)\n",
        "    y_pred_sorted = h @ W2 + b2"
      ],
      "metadata": {
        "id": "A9J-HcKxW5X0"
      },
      "execution_count": null,
      "outputs": []
    },
    {
      "cell_type": "code",
      "source": [
        "# Plot the results\n",
        "plt.figure(figsize=(12, 5))\n",
        "\n",
        "# Plot 1: Data and fitted curve\n",
        "plt.subplot(1, 2, 1)\n",
        "plt.scatter(X, y, alpha=0.5, label='Data')\n",
        "plt.plot(X_sorted.numpy(), y_pred_sorted.numpy(), 'r', linewidth=3, label='Neural Network')\n",
        "plt.title('Neural Network Regression')\n",
        "plt.xlabel('x')\n",
        "plt.ylabel('y')\n",
        "plt.legend()\n",
        "plt.grid(True)\n",
        "\n",
        "# Plot 2: Loss history\n",
        "plt.subplot(1, 2, 2)\n",
        "plt.plot(loss_history)\n",
        "plt.title('Loss History')\n",
        "plt.xlabel('Epoch')\n",
        "plt.ylabel('Loss')\n",
        "plt.grid(True)\n",
        "\n",
        "plt.tight_layout()\n",
        "plt.show()"
      ],
      "metadata": {
        "colab": {
          "base_uri": "https://localhost:8080/",
          "height": 507
        },
        "id": "LcJtQFNzW-P9",
        "outputId": "99ef64b8-c885-45d7-b871-ea17e1a0e528"
      },
      "execution_count": null,
      "outputs": [
        {
          "output_type": "display_data",
          "data": {
            "text/plain": [
              "<Figure size 1200x500 with 2 Axes>"
            ],
            "image/png": "[encoded data removed]"
          },
          "metadata": {}
        }
      ]
    },
    {
      "cell_type": "code",
      "source": [
        "# ===================================\n",
        "# 3. Backpropagation\n",
        "# ===================================\n",
        "\n",
        "print(\"\\n\" + \"=\"*50)\n",
        "print(\" Computing higher-order derivatives\")\n",
        "print(\"=\"*50)"
      ],
      "metadata": {
        "colab": {
          "base_uri": "https://localhost:8080/"
        },
        "id": "GE8X8SYZXDho",
        "outputId": "f4c5c398-ad8e-46c6-b959-228e5fcba1c1"
      },
      "execution_count": null,
      "outputs": [
        {
          "output_type": "stream",
          "name": "stdout",
          "text": [
            "\n",
            "==================================================\n",
            " Computing higher-order derivatives\n",
            "==================================================\n"
          ]
        }
      ]
    },
    {
      "cell_type": "code",
      "source": [
        "# Create tensor\n",
        "x = torch.tensor(2.0, requires_grad=True)"
      ],
      "metadata": {
        "id": "WRtbteh0XImt"
      },
      "execution_count": null,
      "outputs": []
    },
    {
      "cell_type": "code",
      "source": [
        "# First function: f(x) = x^3\n",
        "y = x**3\n",
        "print(f\"f(x) = x^3 = {y}\")"
      ],
      "metadata": {
        "colab": {
          "base_uri": "https://localhost:8080/"
        },
        "id": "J6k2a4IbXMJ_",
        "outputId": "772273f8-930c-4498-905c-b631c292d57d"
      },
      "execution_count": null,
      "outputs": [
        {
          "output_type": "stream",
          "name": "stdout",
          "text": [
            "f(x) = x^3 = 8.0\n"
          ]
        }
      ]
    },
    {
      "cell_type": "code",
      "source": [
        "# First derivative: f'(x) = 3x^2\n",
        "y.backward(retain_graph=True)\n",
        "first_derivative = x.grad\n",
        "print(f\"f'(x) = 3x^2 = {first_derivative}\")  # Should be 12 at x=2"
      ],
      "metadata": {
        "colab": {
          "base_uri": "https://localhost:8080/"
        },
        "id": "OvYjiFbeXNoZ",
        "outputId": "1bde43a7-e312-48a8-c9b9-7e36061c8001"
      },
      "execution_count": null,
      "outputs": [
        {
          "output_type": "stream",
          "name": "stdout",
          "text": [
            "f'(x) = 3x^2 = 12.0\n"
          ]
        }
      ]
    },
    {
      "cell_type": "code",
      "source": [
        "# Reset gradient\n",
        "x.grad.zero_()"
      ],
      "metadata": {
        "colab": {
          "base_uri": "https://localhost:8080/"
        },
        "id": "-XK87NorXRV5",
        "outputId": "64bb96e7-b465-444f-ec36-32e7e82ffc1c"
      },
      "execution_count": null,
      "outputs": [
        {
          "output_type": "execute_result",
          "data": {
            "text/plain": [
              "tensor(0.)"
            ]
          },
          "metadata": {},
          "execution_count": 81
        }
      ]
    },
    {
      "cell_type": "code",
      "source": [
        "# Compute second derivative by taking gradient of the first derivative\n",
        "# We need to create a new computation graph for the first derivative\n",
        "z = 3 * x**2\n",
        "z.backward()\n",
        "second_derivative = x.grad\n",
        "print(f\"f''(x) = 6x = {second_derivative}\")  # Should be 12 at x=2"
      ],
      "metadata": {
        "colab": {
          "base_uri": "https://localhost:8080/"
        },
        "id": "aTha97EQXTyO",
        "outputId": "763d7464-7c94-44d3-c628-c4f3977dcb16"
      },
      "execution_count": null,
      "outputs": [
        {
          "output_type": "stream",
          "name": "stdout",
          "text": [
            "f''(x) = 6x = 12.0\n"
          ]
        }
      ]
    },
    {
      "cell_type": "code",
      "source": [
        "# Handling gradient accumulation and no_grad context\n",
        "print(\"\\nGradient Accumulation and no_grad Examples:\")"
      ],
      "metadata": {
        "colab": {
          "base_uri": "https://localhost:8080/"
        },
        "id": "EzMDdAm-XY8x",
        "outputId": "b34b1c29-dad3-436b-8ad3-21bd12e88a3a"
      },
      "execution_count": null,
      "outputs": [
        {
          "output_type": "stream",
          "name": "stdout",
          "text": [
            "\n",
            "Gradient Accumulation and no_grad Examples:\n"
          ]
        }
      ]
    },
    {
      "cell_type": "code",
      "source": [
        "# Reset our variable\n",
        "x = torch.tensor(2.0, requires_grad=True)\n",
        "print(f\"Initial x: {x}, grad: {x.grad}\")"
      ],
      "metadata": {
        "colab": {
          "base_uri": "https://localhost:8080/"
        },
        "id": "HKy4Jl6aXbkS",
        "outputId": "3d5b7695-74e4-4fa4-8f0a-cda1e3ea2bf6"
      },
      "execution_count": null,
      "outputs": [
        {
          "output_type": "stream",
          "name": "stdout",
          "text": [
            "Initial x: 2.0, grad: None\n"
          ]
        }
      ]
    },
    {
      "cell_type": "code",
      "source": [
        "# Compute gradients multiple times without zeroing\n",
        "y1 = x**2\n",
        "y1.backward(retain_graph=True)\n",
        "print(f\"After first backward: x.grad = {x.grad}\")  # Should be 4"
      ],
      "metadata": {
        "colab": {
          "base_uri": "https://localhost:8080/"
        },
        "id": "Gb_rzsMhXdx7",
        "outputId": "02373e0f-3ed0-47fd-d035-55580136ee00"
      },
      "execution_count": null,
      "outputs": [
        {
          "output_type": "stream",
          "name": "stdout",
          "text": [
            "After first backward: x.grad = 4.0\n"
          ]
        }
      ]
    },
    {
      "cell_type": "code",
      "source": [
        "y2 = x**3\n",
        "y2.backward(retain_graph=True)\n",
        "print(f\"After second backward: x.grad = {x.grad}\")  # Should be 4 + 12 = 16 (accumulated)"
      ],
      "metadata": {
        "colab": {
          "base_uri": "https://localhost:8080/"
        },
        "id": "Oq2y-MEKXgYi",
        "outputId": "6c95941b-8cf2-4f97-fbfb-5c17d1e13700"
      },
      "execution_count": null,
      "outputs": [
        {
          "output_type": "stream",
          "name": "stdout",
          "text": [
            "After second backward: x.grad = 16.0\n"
          ]
        }
      ]
    },
    {
      "cell_type": "code",
      "source": [
        "# Reset gradient\n",
        "x.grad.zero_()\n",
        "print(f\"After zeroing: x.grad = {x.grad}\")\n",
        "\n",
        "# Using torch.no_grad to temporarily disable gradient tracking\n",
        "with torch.no_grad():\n",
        "    y3 = x**4\n",
        "    print(f\"Inside no_grad: y3 = {y3}, y3.requires_grad = {y3.requires_grad}\")\n"
      ],
      "metadata": {
        "colab": {
          "base_uri": "https://localhost:8080/"
        },
        "id": "UhW2HDcsXjmy",
        "outputId": "7fdba70d-0051-4992-ada9-59c6395b119f"
      },
      "execution_count": null,
      "outputs": [
        {
          "output_type": "stream",
          "name": "stdout",
          "text": [
            "After zeroing: x.grad = 0.0\n",
            "Inside no_grad: y3 = 16.0, y3.requires_grad = False\n"
          ]
        }
      ]
    },
    {
      "cell_type": "code",
      "source": [
        "# Gradient tracking is re-enabled outside the context\n",
        "y4 = x**4\n",
        "print(f\"Outside no_grad: y4 = {y4}, y4.requires_grad = {y4.requires_grad}\")"
      ],
      "metadata": {
        "colab": {
          "base_uri": "https://localhost:8080/"
        },
        "id": "awnyYP2zXnD4",
        "outputId": "9a9ba611-385e-49c2-8493-adf2435f957b"
      },
      "execution_count": null,
      "outputs": [
        {
          "output_type": "stream",
          "name": "stdout",
          "text": [
            "Outside no_grad: y4 = 16.0, y4.requires_grad = True\n"
          ]
        }
      ]
    },
    {
      "cell_type": "code",
      "source": [
        "# Using torch.set_grad_enabled\n",
        "torch.set_grad_enabled(False)\n",
        "y5 = x**5\n",
        "print(f\"With grad disabled: y5 = {y5}, y5.requires_grad = {y5.requires_grad}\")"
      ],
      "metadata": {
        "colab": {
          "base_uri": "https://localhost:8080/"
        },
        "id": "Jo_MVTOeXpb-",
        "outputId": "cdbc6100-3721-48f4-92d4-c070f2f33283"
      },
      "execution_count": null,
      "outputs": [
        {
          "output_type": "stream",
          "name": "stdout",
          "text": [
            "With grad disabled: y5 = 32.0, y5.requires_grad = False\n"
          ]
        }
      ]
    },
    {
      "cell_type": "code",
      "source": [
        "torch.set_grad_enabled(True)\n",
        "y6 = x**5\n",
        "print(f\"With grad re-enabled: y6 = {y6}, y6.requires_grad = {y6.requires_grad}\")"
      ],
      "metadata": {
        "colab": {
          "base_uri": "https://localhost:8080/"
        },
        "id": "cQ9BSZlZXtKx",
        "outputId": "c0ab016e-6624-487d-e125-8f20b37dcf00"
      },
      "execution_count": null,
      "outputs": [
        {
          "output_type": "stream",
          "name": "stdout",
          "text": [
            "With grad re-enabled: y6 = 32.0, y6.requires_grad = True\n"
          ]
        }
      ]
    },
    {
      "cell_type": "code",
      "source": [
        "print(\"\\n\" + \"=\"*60)\n",
        "print(\" Autograd and Automatic Differentiation Tutorial Completed!\")\n",
        "print(\"=\"*60)"
      ],
      "metadata": {
        "colab": {
          "base_uri": "https://localhost:8080/"
        },
        "id": "Mwy2HlacXxaq",
        "outputId": "1255cb22-a29a-4a1c-b221-ee271e0ac4ae"
      },
      "execution_count": null,
      "outputs": [
        {
          "output_type": "stream",
          "name": "stdout",
          "text": [
            "\n",
            "============================================================\n",
            " Autograd and Automatic Differentiation Tutorial Completed!\n",
            "============================================================\n"
          ]
        }
      ]
    }
  ]
}