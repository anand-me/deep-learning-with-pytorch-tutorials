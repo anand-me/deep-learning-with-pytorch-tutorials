{
  "nbformat": 4,
  "nbformat_minor": 0,
  "metadata": {
    "colab": {
      "provenance": []
    },
    "kernelspec": {
      "name": "python3",
      "display_name": "Python 3"
    },
    "language_info": {
      "name": "python"
    }
  },
  "cells": [
    {
      "cell_type": "markdown",
      "source": [
        "# PyTorchTuto_3.ipynb\n",
        "\n",
        "## Author: Akshay Anand, PhD Candidate  \n",
        "**Florida State University (2021 - 20XX)**\n",
        "\n",
        "[*Github*](https://github.com/anand-me)\n",
        "\n",
        "## Introduction  \n",
        "\n",
        "Welcome to the third notebook in the PyTorch tutorial series! In this session, we will build upon the concepts introduced in the first notebook and dive deeper into PyTorch's capabilities.\n",
        "\n",
        "This notebook will focus on:  \n",
        "1. **Neural Networks with PyTorch**  \n",
        "   - PyTorch's nn Module  \n",
        "   - Building Neural Network Layers\n",
        "   - Creating Complete Network Architectures  \n",
        "\n",
        "By the end of this notebook, you will understand how to design and implement neural network architectures using PyTorch's elegant and flexible API. This knowledge is fundamental for developing sophisticated deep learning models for various applications\n",
        "\n",
        "---\n",
        "\n",
        "Let’s get started!\n",
        "---"
      ],
      "metadata": {
        "id": "-fsScxEyZSE-"
      }
    },
    {
      "cell_type": "markdown",
      "source": [
        "<a href=\"https://colab.research.google.com/github/anand-me/deep-learning-with-pytorch-tutorials/blob/main/src/PyTorchTuto_3.ipynb\" target=\"_blank\">\n",
        "  <img src=\"https://colab.research.google.com/assets/colab-badge.svg\" alt=\"Open In Colab\"/>\n",
        "</a>"
      ],
      "metadata": {
        "id": "2RAlTcevV6No"
      }
    },
    {
      "cell_type": "code",
      "source": [
        "import torch\n",
        "import torch.nn as nn\n",
        "import torch.nn.functional as F\n",
        "import torch.optim as optim\n",
        "import matplotlib.pyplot as plt\n",
        "import numpy as np\n",
        "from torchvision import datasets, transforms\n",
        "from torch.utils.data import DataLoader, TensorDataset"
      ],
      "metadata": {
        "id": "VJ4BBwlOd5vH"
      },
      "execution_count": null,
      "outputs": []
    },
    {
      "cell_type": "code",
      "source": [
        "# Set random seeds for reproducibility\n",
        "torch.manual_seed(42)\n",
        "np.random.seed(42)\n",
        "\n",
        "# Enable plots in the notebook\n",
        "%matplotlib inline"
      ],
      "metadata": {
        "id": "7NEi0G_6eN3l"
      },
      "execution_count": null,
      "outputs": []
    },
    {
      "cell_type": "code",
      "source": [
        "print(f\"PyTorch version: {torch.__version__}\")\n",
        "print(f\"GPU available: {torch.cuda.is_available()}\")"
      ],
      "metadata": {
        "colab": {
          "base_uri": "https://localhost:8080/"
        },
        "id": "4M2-fy66eSFZ",
        "outputId": "687eab06-1ed8-4224-91ba-a085e2b8d53c"
      },
      "execution_count": null,
      "outputs": [
        {
          "output_type": "stream",
          "name": "stdout",
          "text": [
            "PyTorch version: 2.6.0+cu124\n",
            "GPU available: False\n"
          ]
        }
      ]
    },
    {
      "cell_type": "code",
      "source": [
        "# ============================================================================ #\n",
        "#                          1. PyTorch's nn Module                              #\n",
        "# ============================================================================ #\n",
        "\n",
        "print(\"\\n\" + \"=\"*80)\n",
        "print(\"1. PYTORCH'S nn MODULE\".center(80))\n",
        "print(\"=\"*80)\n"
      ],
      "metadata": {
        "colab": {
          "base_uri": "https://localhost:8080/"
        },
        "id": "SDiNiaNkeV3a",
        "outputId": "9fce07c7-6d20-4603-ebb8-bb9fc3e046ce"
      },
      "execution_count": null,
      "outputs": [
        {
          "output_type": "stream",
          "name": "stdout",
          "text": [
            "\n",
            "================================================================================\n",
            "                             1. PYTORCH'S nn MODULE                             \n",
            "================================================================================\n"
          ]
        }
      ]
    },
    {
      "cell_type": "code",
      "source": [
        "# ---------------------------------------------------------------------------- #\n",
        "#                             Core Components                                   #\n",
        "# ---------------------------------------------------------------------------- #\n",
        "\n",
        "print(\"\\n📌 Module Hierarchy in PyTorch:\")\n",
        "print(\"  • torch: Main PyTorch package\")\n",
        "print(\"    • torch.nn: Neural network module\")\n",
        "print(\"      • torch.nn.Module: Base class for all neural network modules\")\n",
        "print(\"      • torch.nn.functional: Functions that don't have parameters\")\n",
        "print(\"      • torch.nn.init: Parameter initialization functions\")\n",
        "print(\"    • torch.optim: Optimization algorithms\")\n",
        "\n",
        "print(\"\\n📌 Key Components of torch.nn:\")\n",
        "print(\"  • Layers (Linear, Conv2d, etc.)\")\n",
        "print(\"  • Activation Functions (ReLU, Sigmoid, etc.)\")\n",
        "print(\"  • Loss Functions (MSELoss, CrossEntropyLoss, etc.)\")\n",
        "print(\"  • Containers (Sequential, ModuleList, etc.)\")"
      ],
      "metadata": {
        "colab": {
          "base_uri": "https://localhost:8080/"
        },
        "id": "J4iooCuIedLW",
        "outputId": "64ffa781-ce43-4da8-8e48-1b83cb6da3dd"
      },
      "execution_count": null,
      "outputs": [
        {
          "output_type": "stream",
          "name": "stdout",
          "text": [
            "\n",
            "📌 Module Hierarchy in PyTorch:\n",
            "  • torch: Main PyTorch package\n",
            "    • torch.nn: Neural network module\n",
            "      • torch.nn.Module: Base class for all neural network modules\n",
            "      • torch.nn.functional: Functions that don't have parameters\n",
            "      • torch.nn.init: Parameter initialization functions\n",
            "    • torch.optim: Optimization algorithms\n",
            "\n",
            "📌 Key Components of torch.nn:\n",
            "  • Layers (Linear, Conv2d, etc.)\n",
            "  • Activation Functions (ReLU, Sigmoid, etc.)\n",
            "  • Loss Functions (MSELoss, CrossEntropyLoss, etc.)\n",
            "  • Containers (Sequential, ModuleList, etc.)\n"
          ]
        }
      ]
    },
    {
      "cell_type": "code",
      "source": [
        "# ---------------------------------------------------------------------------- #\n",
        "#                            Basic nn.Module Example                            #\n",
        "# ---------------------------------------------------------------------------- #\n",
        "\n",
        "print(\"\\n📝 Basic nn.Module Example:\")"
      ],
      "metadata": {
        "colab": {
          "base_uri": "https://localhost:8080/"
        },
        "id": "IZuNrfGjek3r",
        "outputId": "a6e08953-2647-43b6-a7bf-dfedb61a8723"
      },
      "execution_count": null,
      "outputs": [
        {
          "output_type": "stream",
          "name": "stdout",
          "text": [
            "\n",
            "📝 Basic nn.Module Example:\n"
          ]
        }
      ]
    },
    {
      "cell_type": "code",
      "source": [
        "class SimpleModel(nn.Module):\n",
        "    def __init__(self, input_size, hidden_size, output_size):\n",
        "        super(SimpleModel, self).__init__()\n",
        "        self.fc1 = nn.Linear(input_size, hidden_size)\n",
        "        self.relu = nn.ReLU()\n",
        "        self.fc2 = nn.Linear(hidden_size, output_size)\n",
        "\n",
        "    def forward(self, x):\n",
        "        x = self.fc1(x)\n",
        "        x = self.relu(x)\n",
        "        x = self.fc2(x)\n",
        "        return x"
      ],
      "metadata": {
        "id": "D3TUJwnXeqj0"
      },
      "execution_count": null,
      "outputs": []
    },
    {
      "cell_type": "code",
      "source": [
        "# Create an instance of the model\n",
        "model = SimpleModel(input_size=10, hidden_size=20, output_size=5)\n",
        "print(model)"
      ],
      "metadata": {
        "colab": {
          "base_uri": "https://localhost:8080/"
        },
        "id": "_TkAAdVEevg9",
        "outputId": "0b0a7218-9b78-4bf7-de82-182663cbfcbb"
      },
      "execution_count": null,
      "outputs": [
        {
          "output_type": "stream",
          "name": "stdout",
          "text": [
            "SimpleModel(\n",
            "  (fc1): Linear(in_features=10, out_features=20, bias=True)\n",
            "  (relu): ReLU()\n",
            "  (fc2): Linear(in_features=20, out_features=5, bias=True)\n",
            ")\n"
          ]
        }
      ]
    },
    {
      "cell_type": "code",
      "source": [
        "# Generate some random input data\n",
        "x = torch.randn(8, 10)  # Batch size of 8, input size of 10"
      ],
      "metadata": {
        "id": "TqIzIK5re1nM"
      },
      "execution_count": null,
      "outputs": []
    },
    {
      "cell_type": "code",
      "source": [
        "# Forward pass\n",
        "output = model(x)\n",
        "print(\"\\nInput shape:\", x.shape)\n",
        "print(\"Output shape:\", output.shape)"
      ],
      "metadata": {
        "colab": {
          "base_uri": "https://localhost:8080/"
        },
        "id": "WUnBNYcye3fc",
        "outputId": "bfe4d907-f4af-4557-e14b-15785129f9bb"
      },
      "execution_count": null,
      "outputs": [
        {
          "output_type": "stream",
          "name": "stdout",
          "text": [
            "\n",
            "Input shape: torch.Size([8, 10])\n",
            "Output shape: torch.Size([8, 5])\n"
          ]
        }
      ]
    },
    {
      "cell_type": "code",
      "source": [
        "# Examine model parameters\n",
        "print(\"\\n📊 Model Parameters:\")\n",
        "for name, param in model.named_parameters():\n",
        "    print(f\"{name}: {param.shape}\")"
      ],
      "metadata": {
        "colab": {
          "base_uri": "https://localhost:8080/"
        },
        "id": "TgU-E1fke7NZ",
        "outputId": "73fdbea2-0054-4b5c-9666-47d18ee88a7f"
      },
      "execution_count": null,
      "outputs": [
        {
          "output_type": "stream",
          "name": "stdout",
          "text": [
            "\n",
            "📊 Model Parameters:\n",
            "fc1.weight: torch.Size([20, 10])\n",
            "fc1.bias: torch.Size([20])\n",
            "fc2.weight: torch.Size([5, 20])\n",
            "fc2.bias: torch.Size([5])\n"
          ]
        }
      ]
    },
    {
      "cell_type": "code",
      "source": [
        "# The nn.Module base class provides important functionality\n",
        "print(\"\\n🔑 Key nn.Module Functionality:\")\n",
        "print(\"  • Parameter management\")\n",
        "print(\"  • Moving to devices (CPU/GPU)\")\n",
        "print(\"  • Saving and loading models\")\n",
        "print(\"  • Training and evaluation modes\")\n",
        "\n",
        "# Demonstrate switching between training and evaluation modes\n",
        "model.train()  # Set to training mode\n",
        "print(\"\\nTraining mode:\", model.training)\n",
        "\n",
        "model.eval()   # Set to evaluation mode\n",
        "print(\"Evaluation mode:\", model.training)"
      ],
      "metadata": {
        "colab": {
          "base_uri": "https://localhost:8080/"
        },
        "id": "Btusr9v7e-77",
        "outputId": "9abee0f7-f574-468f-f8f4-bf1e6000beb8"
      },
      "execution_count": null,
      "outputs": [
        {
          "output_type": "stream",
          "name": "stdout",
          "text": [
            "\n",
            "🔑 Key nn.Module Functionality:\n",
            "  • Parameter management\n",
            "  • Moving to devices (CPU/GPU)\n",
            "  • Saving and loading models\n",
            "  • Training and evaluation modes\n",
            "\n",
            "Training mode: True\n",
            "Evaluation mode: False\n"
          ]
        }
      ]
    },
    {
      "cell_type": "code",
      "source": [
        "# ============================================================================ #\n",
        "#                       2. Building Neural Network Layers                       #\n",
        "# ============================================================================ #\n",
        "\n",
        "print(\"\\n\" + \"=\"*80)\n",
        "print(\"2. BUILDING NEURAL NETWORK LAYERS\".center(80))\n",
        "print(\"=\"*80)\n"
      ],
      "metadata": {
        "colab": {
          "base_uri": "https://localhost:8080/"
        },
        "id": "3isJQ0tIfT4j",
        "outputId": "3153aa35-5fba-4869-f9a0-15c1b031bdac"
      },
      "execution_count": null,
      "outputs": [
        {
          "output_type": "stream",
          "name": "stdout",
          "text": [
            "\n",
            "================================================================================\n",
            "                       2. BUILDING NEURAL NETWORK LAYERS                        \n",
            "================================================================================\n"
          ]
        }
      ]
    },
    {
      "cell_type": "code",
      "source": [
        "# ---------------------------------------------------------------------------- #\n",
        "#                              1. Linear Layers                                 #\n",
        "# ---------------------------------------------------------------------------- #\n",
        "\n",
        "print(\"\\n📌 1. Linear Layer (nn.Linear):\")\n",
        "linear_layer = nn.Linear(in_features=10, out_features=5, bias=True)\n",
        "print(linear_layer)\n",
        "print(f\"Weight shape: {linear_layer.weight.shape}\")\n",
        "print(f\"Bias shape: {linear_layer.bias.shape}\")"
      ],
      "metadata": {
        "colab": {
          "base_uri": "https://localhost:8080/"
        },
        "id": "IgfACJCdfX8m",
        "outputId": "2bca9d91-44e1-4520-aa12-94832f726a24"
      },
      "execution_count": null,
      "outputs": [
        {
          "output_type": "stream",
          "name": "stdout",
          "text": [
            "\n",
            "📌 1. Linear Layer (nn.Linear):\n",
            "Linear(in_features=10, out_features=5, bias=True)\n",
            "Weight shape: torch.Size([5, 10])\n",
            "Bias shape: torch.Size([5])\n"
          ]
        }
      ]
    },
    {
      "cell_type": "code",
      "source": [
        "# Demo of linear layer\n",
        "input_data = torch.randn(3, 10)  # 3 samples, 10 features each\n",
        "output = linear_layer(input_data)\n",
        "print(f\"Input shape: {input_data.shape}\")\n",
        "print(f\"Output shape: {output.shape}\")"
      ],
      "metadata": {
        "colab": {
          "base_uri": "https://localhost:8080/"
        },
        "id": "I91b40agfoTQ",
        "outputId": "dd4b0d25-6cd3-4d12-9505-2ec42a7b8c0a"
      },
      "execution_count": null,
      "outputs": [
        {
          "output_type": "stream",
          "name": "stdout",
          "text": [
            "Input shape: torch.Size([3, 10])\n",
            "Output shape: torch.Size([3, 5])\n"
          ]
        }
      ]
    },
    {
      "cell_type": "code",
      "source": [
        "# ---------------------------------------------------------------------------- #\n",
        "#                              2. Convolutional Layers\n",
        "# ---------------------------------------------------------------------------- #\n",
        "print(\"\\n2. Convolutional Layers (nn.Conv2d):\")\n",
        "conv_layer = nn.Conv2d(in_channels=3, out_channels=16, kernel_size=3, stride=1, padding=1)\n",
        "print(conv_layer)\n",
        "print(f\"Weight shape: {conv_layer.weight.shape}\")  # out_channels, in_channels, kernel_height, kernel_width\n",
        "print(f\"Bias shape: {conv_layer.bias.shape}\")      # out_channels"
      ],
      "metadata": {
        "colab": {
          "base_uri": "https://localhost:8080/"
        },
        "id": "6VWYzgtBfrZ5",
        "outputId": "ffa106f9-9553-40df-8d68-5a95291aac53"
      },
      "execution_count": null,
      "outputs": [
        {
          "output_type": "stream",
          "name": "stdout",
          "text": [
            "\n",
            "2. Convolutional Layers (nn.Conv2d):\n",
            "Conv2d(3, 16, kernel_size=(3, 3), stride=(1, 1), padding=(1, 1))\n",
            "Weight shape: torch.Size([16, 3, 3, 3])\n",
            "Bias shape: torch.Size([16])\n"
          ]
        }
      ]
    },
    {
      "cell_type": "code",
      "source": [
        "# Demo of convolutional layer\n",
        "# Input: batch_size, channels, height, width\n",
        "input_image = torch.randn(1, 3, 32, 32)  # 1 RGB image of size 32x32\n",
        "output_feature_map = conv_layer(input_image)\n",
        "print(f\"Input shape: {input_image.shape}\")\n",
        "print(f\"Output shape: {output_feature_map.shape}\")"
      ],
      "metadata": {
        "colab": {
          "base_uri": "https://localhost:8080/"
        },
        "id": "oY4h_w-5ftWA",
        "outputId": "7f9c9c61-6b68-4ca2-f0d4-2e494a20eda8"
      },
      "execution_count": null,
      "outputs": [
        {
          "output_type": "stream",
          "name": "stdout",
          "text": [
            "Input shape: torch.Size([1, 3, 32, 32])\n",
            "Output shape: torch.Size([1, 16, 32, 32])\n"
          ]
        }
      ]
    },
    {
      "cell_type": "code",
      "source": [
        "# ---------------------------------------------------------------------------- #\n",
        "#                              3. Pooling Layers\n",
        "# ---------------------------------------------------------------------------- #\n",
        "print(\"\\n3. Pooling Layers:\")\n",
        "maxpool_layer = nn.MaxPool2d(kernel_size=2, stride=2)\n",
        "avgpool_layer = nn.AvgPool2d(kernel_size=2, stride=2)\n",
        "\n",
        "output_maxpool = maxpool_layer(output_feature_map)\n",
        "output_avgpool = avgpool_layer(output_feature_map)\n",
        "\n",
        "print(f\"Original shape: {output_feature_map.shape}\")\n",
        "print(f\"After MaxPool: {output_maxpool.shape}\")\n",
        "print(f\"After AvgPool: {output_avgpool.shape}\")"
      ],
      "metadata": {
        "colab": {
          "base_uri": "https://localhost:8080/"
        },
        "id": "K6Frgftxfvsk",
        "outputId": "09d35e76-8d70-4345-c9eb-45188f047d05"
      },
      "execution_count": null,
      "outputs": [
        {
          "output_type": "stream",
          "name": "stdout",
          "text": [
            "\n",
            "3. Pooling Layers:\n",
            "Original shape: torch.Size([1, 16, 32, 32])\n",
            "After MaxPool: torch.Size([1, 16, 16, 16])\n",
            "After AvgPool: torch.Size([1, 16, 16, 16])\n"
          ]
        }
      ]
    },
    {
      "cell_type": "code",
      "source": [
        "# ---------------------------------------------------------------------------- #\n",
        "#                              4. Normalization Layers\n",
        "# ---------------------------------------------------------------------------- #\n",
        "print(\"\\n4. Normalization Layers:\")\n",
        "batch_norm = nn.BatchNorm2d(num_features=16)\n",
        "layer_norm = nn.LayerNorm(normalized_shape=[16, 16, 16])\n",
        "\n",
        "print(batch_norm)\n",
        "print(layer_norm)"
      ],
      "metadata": {
        "colab": {
          "base_uri": "https://localhost:8080/"
        },
        "id": "wzq6QyVVhe_3",
        "outputId": "1872d768-913e-41ea-eaa0-33f4d413dc6a"
      },
      "execution_count": null,
      "outputs": [
        {
          "output_type": "stream",
          "name": "stdout",
          "text": [
            "\n",
            "4. Normalization Layers:\n",
            "BatchNorm2d(16, eps=1e-05, momentum=0.1, affine=True, track_running_stats=True)\n",
            "LayerNorm((16, 16, 16), eps=1e-05, elementwise_affine=True)\n"
          ]
        }
      ]
    },
    {
      "cell_type": "code",
      "source": [
        "# ---------------------------------------------------------------------------- #\n",
        "#                              5. Dropout Layers\n",
        "# ---------------------------------------------------------------------------- #\n",
        "print(\"\\n5. Dropout Layers:\")\n",
        "dropout = nn.Dropout(p=0.5)\n",
        "print(dropout)"
      ],
      "metadata": {
        "colab": {
          "base_uri": "https://localhost:8080/"
        },
        "id": "I4hZHfIZhgzw",
        "outputId": "7ab6f452-bd99-454d-f3d7-1894af74a4bf"
      },
      "execution_count": null,
      "outputs": [
        {
          "output_type": "stream",
          "name": "stdout",
          "text": [
            "\n",
            "5. Dropout Layers:\n",
            "Dropout(p=0.5, inplace=False)\n"
          ]
        }
      ]
    },
    {
      "cell_type": "code",
      "source": [
        "# ---------------------------------------------------------------------------- #\n",
        "#                              6. Recurrent Layers\n",
        "# ---------------------------------------------------------------------------- #\n",
        "print(\"\\n6. Recurrent Layers:\")\n",
        "rnn = nn.RNN(input_size=10, hidden_size=20, num_layers=2, batch_first=True)\n",
        "lstm = nn.LSTM(input_size=10, hidden_size=20, num_layers=2, batch_first=True)\n",
        "gru = nn.GRU(input_size=10, hidden_size=20, num_layers=2, batch_first=True)\n",
        "\n",
        "print(rnn)\n",
        "print(lstm)\n",
        "print(gru)"
      ],
      "metadata": {
        "colab": {
          "base_uri": "https://localhost:8080/"
        },
        "id": "3Ehai6HohigC",
        "outputId": "515446ba-2921-4e7a-bc96-2ecb50a89160"
      },
      "execution_count": null,
      "outputs": [
        {
          "output_type": "stream",
          "name": "stdout",
          "text": [
            "\n",
            "6. Recurrent Layers:\n",
            "RNN(10, 20, num_layers=2, batch_first=True)\n",
            "LSTM(10, 20, num_layers=2, batch_first=True)\n",
            "GRU(10, 20, num_layers=2, batch_first=True)\n"
          ]
        }
      ]
    },
    {
      "cell_type": "code",
      "source": [
        "# Demo of LSTM layer\n",
        "# Input: batch_size, sequence_length, input_size\n",
        "sequence_data = torch.randn(5, 8, 10)  # 5 batches, 8 time steps, 10 features\n",
        "output, (hidden, cell) = lstm(sequence_data)\n",
        "print(f\"Input shape: {sequence_data.shape}\")\n",
        "print(f\"Output shape: {output.shape}\")\n",
        "print(f\"Hidden state shape: {hidden.shape}\")\n",
        "print(f\"Cell state shape: {cell.shape}\")"
      ],
      "metadata": {
        "colab": {
          "base_uri": "https://localhost:8080/"
        },
        "id": "uD8AM9Inhs81",
        "outputId": "b4ce83d4-1574-423c-f658-14a4cb052ad0"
      },
      "execution_count": null,
      "outputs": [
        {
          "output_type": "stream",
          "name": "stdout",
          "text": [
            "Input shape: torch.Size([5, 8, 10])\n",
            "Output shape: torch.Size([5, 8, 20])\n",
            "Hidden state shape: torch.Size([2, 5, 20])\n",
            "Cell state shape: torch.Size([2, 5, 20])\n"
          ]
        }
      ]
    },
    {
      "cell_type": "code",
      "source": [
        "# ---------------------------------------------------------------------------- #\n",
        "#                              7. Embedding Layer\n",
        "# ---------------------------------------------------------------------------- #\n",
        "print(\"\\n7. Embedding Layer:\")\n",
        "embedding = nn.Embedding(num_embeddings=10000, embedding_dim=300)\n",
        "print(embedding)"
      ],
      "metadata": {
        "colab": {
          "base_uri": "https://localhost:8080/"
        },
        "id": "UoKUAWv2hwAS",
        "outputId": "9dd6ce0f-4aad-49cc-e90a-e0a272732bbd"
      },
      "execution_count": null,
      "outputs": [
        {
          "output_type": "stream",
          "name": "stdout",
          "text": [
            "\n",
            "7. Embedding Layer:\n",
            "Embedding(10000, 300)\n"
          ]
        }
      ]
    },
    {
      "cell_type": "code",
      "source": [
        "# Demo of embedding layer\n",
        "word_indices = torch.LongTensor([[1, 2, 3], [4, 5, 6]])  # 2 sentences, 3 words each\n",
        "word_embeddings = embedding(word_indices)\n",
        "print(f\"Input shape: {word_indices.shape}\")\n",
        "print(f\"Output shape: {word_embeddings.shape}\")"
      ],
      "metadata": {
        "colab": {
          "base_uri": "https://localhost:8080/"
        },
        "id": "n0skNNd1h09M",
        "outputId": "0bdfa346-758f-4676-dec5-ef3471d05fe4"
      },
      "execution_count": null,
      "outputs": [
        {
          "output_type": "stream",
          "name": "stdout",
          "text": [
            "Input shape: torch.Size([2, 3])\n",
            "Output shape: torch.Size([2, 3, 300])\n"
          ]
        }
      ]
    },
    {
      "cell_type": "code",
      "source": [
        "# ---------------------------------------------------------------------------- #\n",
        "#                              8. Container Layers\n",
        "# ---------------------------------------------------------------------------- #\n",
        "print(\"\\n8. Container Layers:\")"
      ],
      "metadata": {
        "colab": {
          "base_uri": "https://localhost:8080/"
        },
        "id": "1pmrcV5Ph5V8",
        "outputId": "7f482d4a-b71c-456c-baff-24e23736ef6d"
      },
      "execution_count": null,
      "outputs": [
        {
          "output_type": "stream",
          "name": "stdout",
          "text": [
            "\n",
            "8. Container Layers:\n"
          ]
        }
      ]
    },
    {
      "cell_type": "code",
      "source": [
        "# Sequential container\n",
        "sequential_model = nn.Sequential(\n",
        "    nn.Linear(10, 20),\n",
        "    nn.ReLU(),\n",
        "    nn.Linear(20, 15),\n",
        "    nn.ReLU(),\n",
        "    nn.Linear(15, 5)\n",
        ")\n",
        "print(sequential_model)\n",
        "\n",
        "# ModuleList container\n",
        "module_list = nn.ModuleList([\n",
        "    nn.Linear(10, 20),\n",
        "    nn.Linear(20, 15),\n",
        "    nn.Linear(15, 5)\n",
        "])\n",
        "print(module_list)\n",
        "\n",
        "# ModuleDict container\n",
        "module_dict = nn.ModuleDict({\n",
        "    'linear1': nn.Linear(10, 20),\n",
        "    'linear2': nn.Linear(20, 15),\n",
        "    'linear3': nn.Linear(15, 5)\n",
        "})\n",
        "print(module_dict)"
      ],
      "metadata": {
        "colab": {
          "base_uri": "https://localhost:8080/"
        },
        "id": "ifVE067Ah8uV",
        "outputId": "f1409af2-4e1f-42fc-a392-d7b8592ff2a1"
      },
      "execution_count": null,
      "outputs": [
        {
          "output_type": "stream",
          "name": "stdout",
          "text": [
            "Sequential(\n",
            "  (0): Linear(in_features=10, out_features=20, bias=True)\n",
            "  (1): ReLU()\n",
            "  (2): Linear(in_features=20, out_features=15, bias=True)\n",
            "  (3): ReLU()\n",
            "  (4): Linear(in_features=15, out_features=5, bias=True)\n",
            ")\n",
            "ModuleList(\n",
            "  (0): Linear(in_features=10, out_features=20, bias=True)\n",
            "  (1): Linear(in_features=20, out_features=15, bias=True)\n",
            "  (2): Linear(in_features=15, out_features=5, bias=True)\n",
            ")\n",
            "ModuleDict(\n",
            "  (linear1): Linear(in_features=10, out_features=20, bias=True)\n",
            "  (linear2): Linear(in_features=20, out_features=15, bias=True)\n",
            "  (linear3): Linear(in_features=15, out_features=5, bias=True)\n",
            ")\n"
          ]
        }
      ]
    },
    {
      "cell_type": "code",
      "source": [
        "# ============================================================================ #\n",
        "#                       3. ACTIVATION FUNCTIONS\n",
        "# ============================================================================ #\n",
        "\n",
        "print(\"\\n\" + \"=\"*80)\n",
        "print(\"3. ACTIVATION FUNCTIONS\".center(80))\n",
        "print(\"=\"*80)"
      ],
      "metadata": {
        "colab": {
          "base_uri": "https://localhost:8080/"
        },
        "id": "5g9fhR64iABi",
        "outputId": "5b1425d3-be0f-4cd7-ba31-ac7ae114d12c"
      },
      "execution_count": null,
      "outputs": [
        {
          "output_type": "stream",
          "name": "stdout",
          "text": [
            "\n",
            "================================================================================\n",
            "                            3. ACTIVATION FUNCTIONS                             \n",
            "================================================================================\n"
          ]
        }
      ]
    },
    {
      "cell_type": "code",
      "source": [
        "# Create a range of values to visualize\n",
        "x = torch.linspace(-5, 5, 200)"
      ],
      "metadata": {
        "id": "nYAb0LzejoI8"
      },
      "execution_count": null,
      "outputs": []
    },
    {
      "cell_type": "code",
      "source": [
        "# Set up the plotting\n",
        "plt.figure(figsize=(15, 10))\n",
        "\n",
        "# 1. ReLU\n",
        "plt.subplot(2, 3, 1)\n",
        "relu = nn.ReLU()\n",
        "y_relu = relu(x)\n",
        "plt.plot(x.numpy(), y_relu.numpy())\n",
        "plt.title('ReLU')\n",
        "plt.grid(True)\n",
        "\n",
        "# 2. Leaky ReLU\n",
        "plt.subplot(2, 3, 2)\n",
        "leaky_relu = nn.LeakyReLU(negative_slope=0.1)\n",
        "y_leaky_relu = leaky_relu(x)\n",
        "plt.plot(x.numpy(), y_leaky_relu.numpy())\n",
        "plt.title('Leaky ReLU (slope=0.1)')\n",
        "plt.grid(True)\n",
        "\n",
        "# 3. Sigmoid\n",
        "plt.subplot(2, 3, 3)\n",
        "sigmoid = nn.Sigmoid()\n",
        "y_sigmoid = sigmoid(x)\n",
        "plt.plot(x.numpy(), y_sigmoid.numpy())\n",
        "plt.title('Sigmoid')\n",
        "plt.grid(True)\n",
        "\n",
        "# 4. Tanh\n",
        "plt.subplot(2, 3, 4)\n",
        "tanh = nn.Tanh()\n",
        "y_tanh = tanh(x)\n",
        "plt.plot(x.numpy(), y_tanh.numpy())\n",
        "plt.title('Tanh')\n",
        "plt.grid(True)\n",
        "\n",
        "# 5. Softmax\n",
        "plt.subplot(2, 3, 5)\n",
        "# For softmax, we'll show it on a multi-dimensional input\n",
        "logits = torch.tensor([[-5.0, 0.0, 5.0], [5.0, 0.0, -5.0]])\n",
        "softmax = nn.Softmax(dim=1)\n",
        "probabilities = softmax(logits)\n",
        "\n",
        "print(\"\\nSoftmax Example:\")\n",
        "print(f\"Logits:\\n{logits}\")\n",
        "print(f\"Probabilities (sum to 1 along dim=1):\\n{probabilities}\")\n",
        "print(f\"Sum along dim=1: {probabilities.sum(dim=1)}\")\n",
        "\n",
        "x_categories = ['Cat 1', 'Cat 2', 'Cat 3']\n",
        "plt.bar(x_categories, probabilities[0].numpy(), alpha=0.5, label='Sample 1')\n",
        "plt.bar(x_categories, probabilities[1].numpy(), alpha=0.5, label='Sample 2')\n",
        "plt.title('Softmax')\n",
        "plt.legend()\n",
        "plt.grid(True)\n",
        "\n",
        "# 6. GELU\n",
        "plt.subplot(2, 3, 6)\n",
        "gelu = nn.GELU()\n",
        "y_gelu = gelu(x)\n",
        "plt.plot(x.numpy(), y_gelu.numpy())\n",
        "plt.title('GELU')\n",
        "plt.grid(True)\n",
        "\n",
        "plt.tight_layout()\n",
        "plt.show()\n"
      ],
      "metadata": {
        "colab": {
          "base_uri": "https://localhost:8080/",
          "height": 1000
        },
        "id": "hI_0Ts4ajrVv",
        "outputId": "4b38eb22-0214-47e5-ab53-16b81147fc0e"
      },
      "execution_count": null,
      "outputs": [
        {
          "output_type": "stream",
          "name": "stdout",
          "text": [
            "\n",
            "Softmax Example:\n",
            "Logits:\n",
            "tensor([[-5.,  0.,  5.],\n",
            "        [ 5.,  0., -5.]])\n",
            "Probabilities (sum to 1 along dim=1):\n",
            "tensor([[4.5094e-05, 6.6925e-03, 9.9326e-01],\n",
            "        [9.9326e-01, 6.6925e-03, 4.5094e-05]])\n",
            "Sum along dim=1: tensor([1., 1.])\n"
          ]
        },
        {
          "output_type": "display_data",
          "data": {
            "text/plain": [
              "<Figure size 1500x1000 with 6 Axes>"
            ],
            "image/png": "[encoded data removed]"
          },
          "metadata": {}
        }
      ]
    },
    {
      "cell_type": "code",
      "source": [
        "# Using activation functions in models\n",
        "print(\"\\nActivation Functions Usage:\")\n",
        "print(\"1. As module instances:\")\n",
        "print(\"   model = nn.Sequential(nn.Linear(10, 20), nn.ReLU(), nn.Linear(20, 5))\")\n",
        "\n",
        "print(\"\\n2. From the functional API:\")\n",
        "print(\"   def forward(self, x):\")\n",
        "print(\"       x = self.fc1(x)\")\n",
        "print(\"       x = F.relu(x)\")\n",
        "print(\"       return x\")"
      ],
      "metadata": {
        "colab": {
          "base_uri": "https://localhost:8080/"
        },
        "id": "cZZ4i9pBkAfR",
        "outputId": "920d5f93-9244-4afa-f4d0-f1414474c9ff"
      },
      "execution_count": null,
      "outputs": [
        {
          "output_type": "stream",
          "name": "stdout",
          "text": [
            "\n",
            "Activation Functions Usage:\n",
            "1. As module instances:\n",
            "   model = nn.Sequential(nn.Linear(10, 20), nn.ReLU(), nn.Linear(20, 5))\n",
            "\n",
            "2. From the functional API:\n",
            "   def forward(self, x):\n",
            "       x = self.fc1(x)\n",
            "       x = F.relu(x)\n",
            "       return x\n"
          ]
        }
      ]
    },
    {
      "cell_type": "code",
      "source": [
        "# ============================================================================ #\n",
        "#                        Functional vs Module form\n",
        "# ============================================================================ #\n",
        "\n",
        "print(\"\\n\" + \"=\"*80)\n",
        "print(\"Functional vs Module form\".center(80))\n",
        "print(\"=\"*80)"
      ],
      "metadata": {
        "colab": {
          "base_uri": "https://localhost:8080/"
        },
        "id": "-zo8KRYgkg7i",
        "outputId": "b45115c0-d926-4355-ae19-c0bf57bb995d"
      },
      "execution_count": null,
      "outputs": [
        {
          "output_type": "stream",
          "name": "stdout",
          "text": [
            "\n",
            "================================================================================\n",
            "                           Functional vs Module form                            \n",
            "================================================================================\n"
          ]
        }
      ]
    },
    {
      "cell_type": "code",
      "source": [
        "x = torch.randn(5, 10)"
      ],
      "metadata": {
        "id": "reYGvTV9kcoM"
      },
      "execution_count": null,
      "outputs": []
    },
    {
      "cell_type": "code",
      "source": [
        "# Module form\n",
        "relu_module = nn.ReLU()\n",
        "output_module = relu_module(x)"
      ],
      "metadata": {
        "id": "4xiXkxgDkth9"
      },
      "execution_count": null,
      "outputs": []
    },
    {
      "cell_type": "code",
      "source": [
        "# Functional form\n",
        "output_functional = F.relu(x)"
      ],
      "metadata": {
        "id": "-TyPG3ImkvoK"
      },
      "execution_count": null,
      "outputs": []
    },
    {
      "cell_type": "code",
      "source": [
        "print(f\"Are outputs identical? {torch.allclose(output_module, output_functional)}\")"
      ],
      "metadata": {
        "colab": {
          "base_uri": "https://localhost:8080/"
        },
        "id": "PDESYARUkzwz",
        "outputId": "b65d99d9-c770-4a4c-ed47-709281b0ed64"
      },
      "execution_count": null,
      "outputs": [
        {
          "output_type": "stream",
          "name": "stdout",
          "text": [
            "Are outputs identical? True\n"
          ]
        }
      ]
    },
    {
      "cell_type": "code",
      "source": [
        "# Which activation function to use?\n",
        "print(\"\\nChoosing Activation Functions:\")\n",
        "print(\"1. ReLU: Default choice for most hidden layers\")\n",
        "print(\"2. Leaky ReLU/ELU: When dying ReLU is a concern\")\n",
        "print(\"3. Sigmoid: Binary classification output layer\")\n",
        "print(\"4. Tanh: When outputs need to be between -1 and 1\")\n",
        "print(\"5. Softmax: Multi-class classification output layer\")\n",
        "print(\"6. GELU: Often used in transformer architectures\")\n"
      ],
      "metadata": {
        "colab": {
          "base_uri": "https://localhost:8080/"
        },
        "id": "iNv4W-F1k3M4",
        "outputId": "e1e176e7-8b5f-4c8c-d5a4-94e42b8b7aa3"
      },
      "execution_count": null,
      "outputs": [
        {
          "output_type": "stream",
          "name": "stdout",
          "text": [
            "\n",
            "Choosing Activation Functions:\n",
            "1. ReLU: Default choice for most hidden layers\n",
            "2. Leaky ReLU/ELU: When dying ReLU is a concern\n",
            "3. Sigmoid: Binary classification output layer\n",
            "4. Tanh: When outputs need to be between -1 and 1\n",
            "5. Softmax: Multi-class classification output layer\n",
            "6. GELU: Often used in transformer architectures\n"
          ]
        }
      ]
    },
    {
      "cell_type": "code",
      "source": [
        "# How activations affect gradients\n",
        "print(\"\\nActivation Functions and Gradients:\")\n",
        "x = torch.linspace(-5, 5, 100, requires_grad=True)"
      ],
      "metadata": {
        "colab": {
          "base_uri": "https://localhost:8080/"
        },
        "id": "5MasIAQQk69O",
        "outputId": "c4fd0a5c-7f75-413f-f805-1f976cb9c7d7"
      },
      "execution_count": null,
      "outputs": [
        {
          "output_type": "stream",
          "name": "stdout",
          "text": [
            "\n",
            "Activation Functions and Gradients:\n"
          ]
        }
      ]
    },
    {
      "cell_type": "code",
      "source": [
        "# ReLU gradient\n",
        "y_relu = F.relu(x)\n",
        "y_relu.sum().backward()\n",
        "grad_relu = x.grad.clone()\n",
        "x.grad.zero_()"
      ],
      "metadata": {
        "colab": {
          "base_uri": "https://localhost:8080/"
        },
        "id": "2nEk9OQnk-rm",
        "outputId": "c44b3eb9-c998-411f-bd01-9e116e0dede2"
      },
      "execution_count": null,
      "outputs": [
        {
          "output_type": "execute_result",
          "data": {
            "text/plain": [
              "tensor([0., 0., 0., 0., 0., 0., 0., 0., 0., 0., 0., 0., 0., 0., 0., 0., 0., 0., 0., 0., 0., 0., 0., 0.,\n",
              "        0., 0., 0., 0., 0., 0., 0., 0., 0., 0., 0., 0., 0., 0., 0., 0., 0., 0., 0., 0., 0., 0., 0., 0.,\n",
              "        0., 0., 0., 0., 0., 0., 0., 0., 0., 0., 0., 0., 0., 0., 0., 0., 0., 0., 0., 0., 0., 0., 0., 0.,\n",
              "        0., 0., 0., 0., 0., 0., 0., 0., 0., 0., 0., 0., 0., 0., 0., 0., 0., 0., 0., 0., 0., 0., 0., 0.,\n",
              "        0., 0., 0., 0.])"
            ]
          },
          "metadata": {},
          "execution_count": 54
        }
      ]
    },
    {
      "cell_type": "code",
      "source": [
        "# Sigmoid gradient\n",
        "y_sigmoid = torch.sigmoid(x)\n",
        "y_sigmoid.sum().backward()\n",
        "grad_sigmoid = x.grad.clone()\n",
        "x.grad.zero_()"
      ],
      "metadata": {
        "colab": {
          "base_uri": "https://localhost:8080/"
        },
        "id": "rk9l2k6ElAyB",
        "outputId": "0a8d68b4-3e6e-4034-c1d9-123b20863b0c"
      },
      "execution_count": null,
      "outputs": [
        {
          "output_type": "execute_result",
          "data": {
            "text/plain": [
              "tensor([0., 0., 0., 0., 0., 0., 0., 0., 0., 0., 0., 0., 0., 0., 0., 0., 0., 0., 0., 0., 0., 0., 0., 0.,\n",
              "        0., 0., 0., 0., 0., 0., 0., 0., 0., 0., 0., 0., 0., 0., 0., 0., 0., 0., 0., 0., 0., 0., 0., 0.,\n",
              "        0., 0., 0., 0., 0., 0., 0., 0., 0., 0., 0., 0., 0., 0., 0., 0., 0., 0., 0., 0., 0., 0., 0., 0.,\n",
              "        0., 0., 0., 0., 0., 0., 0., 0., 0., 0., 0., 0., 0., 0., 0., 0., 0., 0., 0., 0., 0., 0., 0., 0.,\n",
              "        0., 0., 0., 0.])"
            ]
          },
          "metadata": {},
          "execution_count": 55
        }
      ]
    },
    {
      "cell_type": "code",
      "source": [
        "# Tanh gradient\n",
        "y_tanh = torch.tanh(x)\n",
        "y_tanh.sum().backward()\n",
        "grad_tanh = x.grad.clone()"
      ],
      "metadata": {
        "id": "GMjYij4PlCYL"
      },
      "execution_count": null,
      "outputs": []
    },
    {
      "cell_type": "code",
      "source": [
        "# Plot the activations and their gradients\n",
        "plt.figure(figsize=(15, 10))\n",
        "\n",
        "plt.subplot(2, 3, 1)\n",
        "plt.plot(x.detach().numpy(), y_relu.detach().numpy())\n",
        "plt.title('ReLU')\n",
        "plt.grid(True)\n",
        "\n",
        "plt.subplot(2, 3, 2)\n",
        "plt.plot(x.detach().numpy(), y_sigmoid.detach().numpy())\n",
        "plt.title('Sigmoid')\n",
        "plt.grid(True)\n",
        "\n",
        "plt.subplot(2, 3, 3)\n",
        "plt.plot(x.detach().numpy(), y_tanh.detach().numpy())\n",
        "plt.title('Tanh')\n",
        "plt.grid(True)\n",
        "\n",
        "plt.subplot(2, 3, 4)\n",
        "plt.plot(x.detach().numpy(), grad_relu.numpy())\n",
        "plt.title('ReLU Gradient')\n",
        "plt.grid(True)\n",
        "\n",
        "plt.subplot(2, 3, 5)\n",
        "plt.plot(x.detach().numpy(), grad_sigmoid.numpy())\n",
        "plt.title('Sigmoid Gradient')\n",
        "plt.grid(True)\n",
        "\n",
        "plt.subplot(2, 3, 6)\n",
        "plt.plot(x.detach().numpy(), grad_tanh.numpy())\n",
        "plt.title('Tanh Gradient')\n",
        "plt.grid(True)\n",
        "\n",
        "plt.tight_layout()\n",
        "plt.show()"
      ],
      "metadata": {
        "colab": {
          "base_uri": "https://localhost:8080/",
          "height": 1000
        },
        "id": "Z1AJl83hlE4D",
        "outputId": "4826acdd-66c8-414d-8303-a1c4eeb4997c"
      },
      "execution_count": null,
      "outputs": [
        {
          "output_type": "display_data",
          "data": {
            "text/plain": [
              "<Figure size 1500x1000 with 6 Axes>"
            ],
            "image/png": "[encoded data removed]"
          },
          "metadata": {}
        }
      ]
    },
    {
      "cell_type": "code",
      "source": [
        "# ============================================================================ #\n",
        "#                        4. Creating Complete Network Architectures\n",
        "# ============================================================================ #\n",
        "\n",
        "print(\"\\n\" + \"=\"*80)\n",
        "print(\"4. Creating Complete Network Architecturesm\".center(80))\n",
        "print(\"=\"*80)"
      ],
      "metadata": {
        "colab": {
          "base_uri": "https://localhost:8080/"
        },
        "id": "UkMS4uURlMFS",
        "outputId": "6c8b3ceb-041e-47bc-85c2-efcfa78096f4"
      },
      "execution_count": null,
      "outputs": [
        {
          "output_type": "stream",
          "name": "stdout",
          "text": [
            "\n",
            "================================================================================\n",
            "                  4. Creating Complete Network Architecturesm                   \n",
            "================================================================================\n"
          ]
        }
      ]
    },
    {
      "cell_type": "code",
      "source": [
        "# 1. Multi-Layer Perceptron (MLP)\n",
        "print(\"\\n1. Multi-Layer Perceptron (MLP):\")\n",
        "\n",
        "class MLP(nn.Module):\n",
        "    def __init__(self, input_size, hidden_sizes, output_size, dropout_prob=0.2):\n",
        "        super(MLP, self).__init__()\n",
        "\n",
        "        # Create a list to hold all layers\n",
        "        layers = []\n",
        "\n",
        "        # Input layer\n",
        "        layers.append(nn.Linear(input_size, hidden_sizes[0]))\n",
        "        layers.append(nn.ReLU())\n",
        "        layers.append(nn.Dropout(dropout_prob))\n",
        "\n",
        "        # Hidden layers\n",
        "        for i in range(len(hidden_sizes) - 1):\n",
        "            layers.append(nn.Linear(hidden_sizes[i], hidden_sizes[i+1]))\n",
        "            layers.append(nn.ReLU())\n",
        "            layers.append(nn.Dropout(dropout_prob))\n",
        "\n",
        "        # Output layer\n",
        "        layers.append(nn.Linear(hidden_sizes[-1], output_size))\n",
        "\n",
        "        # Combine all layers into a Sequential module\n",
        "        self.model = nn.Sequential(*layers)\n",
        "\n",
        "    def forward(self, x):\n",
        "        return self.model(x)\n",
        "\n",
        "# Create an MLP instance\n",
        "mlp = MLP(input_size=784, hidden_sizes=[512, 256, 128], output_size=10)\n",
        "print(mlp)\n"
      ],
      "metadata": {
        "colab": {
          "base_uri": "https://localhost:8080/"
        },
        "id": "1kE7MUiYlW2g",
        "outputId": "10498b65-5343-4081-bc31-7392b3604fb1"
      },
      "execution_count": null,
      "outputs": [
        {
          "output_type": "stream",
          "name": "stdout",
          "text": [
            "\n",
            "1. Multi-Layer Perceptron (MLP):\n",
            "MLP(\n",
            "  (model): Sequential(\n",
            "    (0): Linear(in_features=784, out_features=512, bias=True)\n",
            "    (1): ReLU()\n",
            "    (2): Dropout(p=0.2, inplace=False)\n",
            "    (3): Linear(in_features=512, out_features=256, bias=True)\n",
            "    (4): ReLU()\n",
            "    (5): Dropout(p=0.2, inplace=False)\n",
            "    (6): Linear(in_features=256, out_features=128, bias=True)\n",
            "    (7): ReLU()\n",
            "    (8): Dropout(p=0.2, inplace=False)\n",
            "    (9): Linear(in_features=128, out_features=10, bias=True)\n",
            "  )\n",
            ")\n"
          ]
        }
      ]
    },
    {
      "cell_type": "code",
      "source": [
        "# 2. Convolutional Neural Network (CNN)\n",
        "print(\"\\n2. Convolutional Neural Network (CNN):\")\n",
        "\n",
        "class CNN(nn.Module):\n",
        "    def __init__(self, num_classes=10):\n",
        "        super(CNN, self).__init__()\n",
        "\n",
        "        # Convolutional layers\n",
        "        self.conv_layers = nn.Sequential(\n",
        "            # First conv block\n",
        "            nn.Conv2d(in_channels=1, out_channels=32, kernel_size=3, padding=1),\n",
        "            nn.ReLU(),\n",
        "            nn.MaxPool2d(kernel_size=2, stride=2),\n",
        "\n",
        "            # Second conv block\n",
        "            nn.Conv2d(in_channels=32, out_channels=64, kernel_size=3, padding=1),\n",
        "            nn.ReLU(),\n",
        "            nn.MaxPool2d(kernel_size=2, stride=2),\n",
        "\n",
        "            # Third conv block\n",
        "            nn.Conv2d(in_channels=64, out_channels=128, kernel_size=3, padding=1),\n",
        "            nn.ReLU(),\n",
        "            nn.MaxPool2d(kernel_size=2, stride=2)\n",
        "        )\n",
        "\n",
        "        # Fully connected layers\n",
        "        self.fc_layers = nn.Sequential(\n",
        "            nn.Flatten(),\n",
        "            nn.Linear(128 * 3 * 3, 512),  # For a 28x28 input image\n",
        "            nn.ReLU(),\n",
        "            nn.Dropout(0.5),\n",
        "            nn.Linear(512, num_classes)\n",
        "        )\n",
        "\n",
        "    def forward(self, x):\n",
        "        x = self.conv_layers(x)\n",
        "        x = self.fc_layers(x)\n",
        "        return x\n",
        "\n",
        "# Create a CNN instance\n",
        "cnn = CNN(num_classes=10)\n",
        "print(cnn)\n",
        "\n",
        "# Trace data flow through the CNN\n",
        "sample_input = torch.randn(1, 1, 28, 28)  # Single MNIST-like image\n",
        "print(\"\\nData flow through CNN:\")\n",
        "print(f\"Input shape: {sample_input.shape}\")\n",
        "\n",
        "x = cnn.conv_layers[0:3](sample_input)  # First conv block\n",
        "print(f\"After first conv block: {x.shape}\")\n",
        "\n",
        "x = cnn.conv_layers[3:6](x)  # Second conv block\n",
        "print(f\"After second conv block: {x.shape}\")\n",
        "\n",
        "x = cnn.conv_layers[6:9](x)  # Third conv block\n",
        "print(f\"After third conv block: {x.shape}\")\n",
        "\n",
        "x = cnn.fc_layers(x)  # Fully connected layers\n",
        "print(f\"Final output shape: {x.shape}\")"
      ],
      "metadata": {
        "colab": {
          "base_uri": "https://localhost:8080/"
        },
        "id": "1NQ-KMCvlZ2L",
        "outputId": "efaaac23-d829-4127-a5a8-ed01ac620908"
      },
      "execution_count": null,
      "outputs": [
        {
          "output_type": "stream",
          "name": "stdout",
          "text": [
            "\n",
            "2. Convolutional Neural Network (CNN):\n",
            "CNN(\n",
            "  (conv_layers): Sequential(\n",
            "    (0): Conv2d(1, 32, kernel_size=(3, 3), stride=(1, 1), padding=(1, 1))\n",
            "    (1): ReLU()\n",
            "    (2): MaxPool2d(kernel_size=2, stride=2, padding=0, dilation=1, ceil_mode=False)\n",
            "    (3): Conv2d(32, 64, kernel_size=(3, 3), stride=(1, 1), padding=(1, 1))\n",
            "    (4): ReLU()\n",
            "    (5): MaxPool2d(kernel_size=2, stride=2, padding=0, dilation=1, ceil_mode=False)\n",
            "    (6): Conv2d(64, 128, kernel_size=(3, 3), stride=(1, 1), padding=(1, 1))\n",
            "    (7): ReLU()\n",
            "    (8): MaxPool2d(kernel_size=2, stride=2, padding=0, dilation=1, ceil_mode=False)\n",
            "  )\n",
            "  (fc_layers): Sequential(\n",
            "    (0): Flatten(start_dim=1, end_dim=-1)\n",
            "    (1): Linear(in_features=1152, out_features=512, bias=True)\n",
            "    (2): ReLU()\n",
            "    (3): Dropout(p=0.5, inplace=False)\n",
            "    (4): Linear(in_features=512, out_features=10, bias=True)\n",
            "  )\n",
            ")\n",
            "\n",
            "Data flow through CNN:\n",
            "Input shape: torch.Size([1, 1, 28, 28])\n",
            "After first conv block: torch.Size([1, 32, 14, 14])\n",
            "After second conv block: torch.Size([1, 64, 7, 7])\n",
            "After third conv block: torch.Size([1, 128, 3, 3])\n",
            "Final output shape: torch.Size([1, 10])\n"
          ]
        }
      ]
    },
    {
      "cell_type": "code",
      "source": [
        "# 3. Recurrent Neural Network (RNN)\n",
        "print(\"\\n3. Recurrent Neural Network (RNN):\")\n",
        "\n",
        "class RecurrentNN(nn.Module):\n",
        "    def __init__(self, input_size, hidden_size, num_layers, output_size, bidirectional=False):\n",
        "        super(RecurrentNN, self).__init__()\n",
        "\n",
        "        # LSTM layer\n",
        "        self.lstm = nn.LSTM(\n",
        "            input_size=input_size,\n",
        "            hidden_size=hidden_size,\n",
        "            num_layers=num_layers,\n",
        "            batch_first=True,\n",
        "            bidirectional=bidirectional\n",
        "        )\n",
        "\n",
        "        # Fully connected layer\n",
        "        fc_input_size = hidden_size * 2 if bidirectional else hidden_size\n",
        "        self.fc = nn.Linear(fc_input_size, output_size)\n",
        "\n",
        "    def forward(self, x):\n",
        "        # x shape: (batch_size, sequence_length, input_size)\n",
        "\n",
        "        # Pass through LSTM\n",
        "        lstm_out, (hidden, cell) = self.lstm(x)\n",
        "\n",
        "        # Take the output of the last time step\n",
        "        if self.lstm.bidirectional:\n",
        "            # Concatenate the last hidden state from both directions\n",
        "            final_hidden = torch.cat((hidden[-2], hidden[-1]), dim=1)\n",
        "        else:\n",
        "            final_hidden = hidden[-1]\n",
        "\n",
        "        # Pass through fully connected layer\n",
        "        output = self.fc(final_hidden)\n",
        "\n",
        "        return output\n",
        "\n",
        "# Create an RNN instance\n",
        "rnn_model = RecurrentNN(\n",
        "    input_size=28,          # Each row of an MNIST image\n",
        "    hidden_size=128,\n",
        "    num_layers=2,\n",
        "    output_size=10,\n",
        "    bidirectional=True\n",
        ")\n",
        "print(rnn_model)\n",
        "\n",
        "# Trace data through the RNN\n",
        "# We'll treat each MNIST image as a sequence of 28 rows, each with 28 features\n",
        "rnn_input = torch.randn(32, 28, 28)  # batch_size, sequence_length, feature_size\n",
        "rnn_output = rnn_model(rnn_input)\n",
        "\n",
        "print(f\"RNN input shape: {rnn_input.shape}\")\n",
        "print(f\"RNN output shape: {rnn_output.shape}\")"
      ],
      "metadata": {
        "colab": {
          "base_uri": "https://localhost:8080/"
        },
        "id": "bVjyLtBvlfeG",
        "outputId": "37ca1ea0-3029-4d5f-fca2-65627d79af25"
      },
      "execution_count": null,
      "outputs": [
        {
          "output_type": "stream",
          "name": "stdout",
          "text": [
            "\n",
            "3. Recurrent Neural Network (RNN):\n",
            "RecurrentNN(\n",
            "  (lstm): LSTM(28, 128, num_layers=2, batch_first=True, bidirectional=True)\n",
            "  (fc): Linear(in_features=256, out_features=10, bias=True)\n",
            ")\n",
            "RNN input shape: torch.Size([32, 28, 28])\n",
            "RNN output shape: torch.Size([32, 10])\n"
          ]
        }
      ]
    },
    {
      "cell_type": "code",
      "source": [
        "# 4. Custom Architecture: Combining CNN and RNN\n",
        "print(\"\\n4. Custom Architecture - CNN-LSTM:\")\n",
        "\n",
        "class CNNLSTM(nn.Module):\n",
        "    def __init__(self, num_classes=10):\n",
        "        super(CNNLSTM, self).__init__()\n",
        "\n",
        "        # CNN for feature extraction\n",
        "        self.cnn = nn.Sequential(\n",
        "            nn.Conv2d(1, 32, kernel_size=3, padding=1),\n",
        "            nn.ReLU(),\n",
        "            nn.MaxPool2d(2),\n",
        "            nn.Conv2d(32, 64, kernel_size=3, padding=1),\n",
        "            nn.ReLU(),\n",
        "            nn.MaxPool2d(2)\n",
        "        )\n",
        "\n",
        "        # LSTM to process the sequence of features\n",
        "        self.lstm = nn.LSTM(\n",
        "            input_size=64 * 7,  # Width after CNN\n",
        "            hidden_size=128,\n",
        "            num_layers=1,\n",
        "            batch_first=True\n",
        "        )\n",
        "\n",
        "        # Fully connected layer for classification\n",
        "        self.fc = nn.Linear(128, num_classes)\n",
        "\n",
        "    def forward(self, x):\n",
        "        # x shape: (batch_size, channels, height, width)\n",
        "\n",
        "        # Pass through CNN\n",
        "        x = self.cnn(x)\n",
        "\n",
        "        # Reshape for LSTM: (batch_size, sequence_length, features)\n",
        "        # Treat the height as sequence length\n",
        "        batch_size, channels, height, width = x.shape\n",
        "        x = x.permute(0, 2, 1, 3)  # (batch_size, height, channels, width)\n",
        "        x = x.reshape(batch_size, height, channels * width)\n",
        "\n",
        "        # Pass through LSTM\n",
        "        lstm_out, (hidden, cell) = self.lstm(x)\n",
        "\n",
        "        # Use the last hidden state for classification\n",
        "        x = self.fc(hidden[-1])\n",
        "\n",
        "        return x\n",
        "\n",
        "# Create a CNN-LSTM instance\n",
        "cnn_lstm = CNNLSTM(num_classes=10)\n",
        "print(cnn_lstm)\n",
        "\n",
        "# Trace data through the CNN-LSTM\n",
        "cnn_lstm_input = torch.randn(32, 1, 28, 28)  # batch_size, channels, height, width\n",
        "cnn_lstm_output = cnn_lstm(cnn_lstm_input)\n",
        "\n",
        "print(f\"CNN-LSTM input shape: {cnn_lstm_input.shape}\")\n",
        "print(f\"CNN-LSTM output shape: {cnn_lstm_output.shape}\")"
      ],
      "metadata": {
        "colab": {
          "base_uri": "https://localhost:8080/"
        },
        "id": "0zBfG7m5lkHH",
        "outputId": "9811e6a9-5267-4f86-fb99-749dad1e9051"
      },
      "execution_count": null,
      "outputs": [
        {
          "output_type": "stream",
          "name": "stdout",
          "text": [
            "\n",
            "4. Custom Architecture - CNN-LSTM:\n",
            "CNNLSTM(\n",
            "  (cnn): Sequential(\n",
            "    (0): Conv2d(1, 32, kernel_size=(3, 3), stride=(1, 1), padding=(1, 1))\n",
            "    (1): ReLU()\n",
            "    (2): MaxPool2d(kernel_size=2, stride=2, padding=0, dilation=1, ceil_mode=False)\n",
            "    (3): Conv2d(32, 64, kernel_size=(3, 3), stride=(1, 1), padding=(1, 1))\n",
            "    (4): ReLU()\n",
            "    (5): MaxPool2d(kernel_size=2, stride=2, padding=0, dilation=1, ceil_mode=False)\n",
            "  )\n",
            "  (lstm): LSTM(448, 128, batch_first=True)\n",
            "  (fc): Linear(in_features=128, out_features=10, bias=True)\n",
            ")\n",
            "CNN-LSTM input shape: torch.Size([32, 1, 28, 28])\n",
            "CNN-LSTM output shape: torch.Size([32, 10])\n"
          ]
        }
      ]
    },
    {
      "cell_type": "code",
      "source": [
        "# 5. Residual Networks (ResNet)\n",
        "print(\"\\n5. Residual Network (ResNet) Block:\")\n",
        "\n",
        "class ResidualBlock(nn.Module):\n",
        "    def __init__(self, in_channels, out_channels, stride=1):\n",
        "        super(ResidualBlock, self).__init__()\n",
        "\n",
        "        # Main path\n",
        "        self.conv1 = nn.Conv2d(in_channels, out_channels, kernel_size=3, stride=stride, padding=1, bias=False)\n",
        "        self.bn1 = nn.BatchNorm2d(out_channels)\n",
        "        self.relu = nn.ReLU(inplace=True)\n",
        "        self.conv2 = nn.Conv2d(out_channels, out_channels, kernel_size=3, stride=1, padding=1, bias=False)\n",
        "        self.bn2 = nn.BatchNorm2d(out_channels)\n",
        "\n",
        "        # Shortcut connection (skip connection)\n",
        "        self.shortcut = nn.Sequential()\n",
        "        if stride != 1 or in_channels != out_channels:\n",
        "            self.shortcut = nn.Sequential(\n",
        "                nn.Conv2d(in_channels, out_channels, kernel_size=1, stride=stride, bias=False),\n",
        "                nn.BatchNorm2d(out_channels)\n",
        "            )\n",
        "\n",
        "    def forward(self, x):\n",
        "        # Main path\n",
        "        out = self.conv1(x)\n",
        "        out = self.bn1(out)\n",
        "        out = self.relu(out)\n",
        "        out = self.conv2(out)\n",
        "        out = self.bn2(out)\n",
        "\n",
        "        # Add shortcut connection\n",
        "        out += self.shortcut(x)\n",
        "        out = self.relu(out)\n",
        "\n",
        "        return out\n",
        "\n",
        "# Create a small ResNet\n",
        "class SmallResNet(nn.Module):\n",
        "    def __init__(self, num_blocks, num_classes=10):\n",
        "        super(SmallResNet, self).__init__()\n",
        "\n",
        "        self.in_channels = 64\n",
        "\n",
        "        # Initial convolution\n",
        "        self.conv1 = nn.Conv2d(1, 64, kernel_size=3, stride=1, padding=1, bias=False)\n",
        "        self.bn1 = nn.BatchNorm2d(64)\n",
        "        self.relu = nn.ReLU(inplace=True)\n",
        "\n",
        "        # Residual layers\n",
        "        self.layer1 = self._make_layer(64, num_blocks[0], stride=1)\n",
        "        self.layer2 = self._make_layer(128, num_blocks[1], stride=2)\n",
        "        self.layer3 = self._make_layer(256, num_blocks[2], stride=2)\n",
        "\n",
        "        # Global average pooling and fully connected layer\n",
        "        self.avg_pool = nn.AdaptiveAvgPool2d((1, 1))\n",
        "        self.fc = nn.Linear(256, num_classes)\n",
        "\n",
        "    def _make_layer(self, out_channels, num_blocks, stride):\n",
        "        strides = [stride] + [1] * (num_blocks - 1)\n",
        "        layers = []\n",
        "\n",
        "        for stride in strides:\n",
        "            layers.append(ResidualBlock(self.in_channels, out_channels, stride))\n",
        "            self.in_channels = out_channels\n",
        "\n",
        "        return nn.Sequential(*layers)\n",
        "\n",
        "    def forward(self, x):\n",
        "        # Initial convolution\n",
        "        out = self.conv1(x)\n",
        "        out = self.bn1(out)\n",
        "        out = self.relu(out)\n",
        "\n",
        "        # Residual layers\n",
        "        out = self.layer1(out)\n",
        "        out = self.layer2(out)\n",
        "        out = self.layer3(out)\n",
        "\n",
        "        # Global average pooling\n",
        "        out = self.avg_pool(out)\n",
        "        out = out.view(out.size(0), -1)\n",
        "\n",
        "        # Fully connected layer\n",
        "        out = self.fc(out)\n",
        "\n",
        "        return out\n",
        "\n",
        "# Create a ResNet instance\n",
        "resnet = SmallResNet(num_blocks=[2, 2, 2], num_classes=10)\n",
        "print(resnet)\n",
        "\n",
        "# Trace data through the ResNet\n",
        "resnet_input = torch.randn(32, 1, 28, 28)  # batch_size, channels, height, width\n",
        "resnet_output = resnet(resnet_input)\n",
        "\n",
        "print(f\"ResNet input shape: {resnet_input.shape}\")\n",
        "print(f\"ResNet output shape: {resnet_output.shape}\")\n",
        "\n",
        "# Load the MNIST dataset\n",
        "print(\"\\nTraining a model on MNIST:\")\n",
        "\n",
        "# Define the transforms\n",
        "transform = transforms.Compose([\n",
        "    transforms.ToTensor(),\n",
        "    transforms.Normalize((0.1307,), (0.3081,))\n",
        "])\n",
        "\n",
        "# Use a smaller subset for speed\n",
        "train_dataset = datasets.MNIST('./data', train=True, download=True, transform=transform)\n",
        "test_dataset = datasets.MNIST('./data', train=False, transform=transform)\n",
        "\n",
        "# Create data loaders\n",
        "train_loader = DataLoader(train_dataset, batch_size=64, shuffle=True)\n",
        "test_loader = DataLoader(test_dataset, batch_size=1000)\n",
        "\n",
        "# Define the model (we'll use a simpler model for time efficiency)\n",
        "class SimpleCNN(nn.Module):\n",
        "    def __init__(self):\n",
        "        super(SimpleCNN, self).__init__()\n",
        "        self.conv1 = nn.Conv2d(1, 10, kernel_size=5)\n",
        "        self.conv2 = nn.Conv2d(10, 20, kernel_size=5)\n",
        "        self.fc1 = nn.Linear(320, 50)\n",
        "        self.fc2 = nn.Linear(50, 10)\n",
        "\n",
        "    def forward(self, x):\n",
        "        x = F.relu(F.max_pool2d(self.conv1(x), 2))\n",
        "        x = F.relu(F.max_pool2d(self.conv2(x), 2))\n",
        "        x = x.view(-1, 320)\n",
        "        x = F.relu(self.fc1(x))\n",
        "        x = self.fc2(x)\n",
        "        return F.log_softmax(x, dim=1)\n",
        "\n",
        "# Create the model, loss function, and optimizer\n",
        "model = SimpleCNN()\n",
        "criterion = nn.CrossEntropyLoss()\n",
        "optimizer = optim.Adam(model.parameters(), lr=0.001)\n",
        "\n",
        "# Train for a few epochs (to keep the tutorial runtime reasonable)\n",
        "num_epochs = 20\n",
        "train_losses = []\n",
        "test_accuracies = []\n",
        "\n",
        "for epoch in range(num_epochs):\n",
        "    model.train()\n",
        "    running_loss = 0.0\n",
        "\n",
        "    for batch_idx, (data, target) in enumerate(train_loader):\n",
        "        # Zero the gradients\n",
        "        optimizer.zero_grad()\n",
        "\n",
        "        # Forward pass\n",
        "        output = model(data)\n",
        "\n",
        "        # Compute loss\n",
        "        loss = criterion(output, target)\n",
        "\n",
        "        # Backward pass\n",
        "        loss.backward()\n",
        "\n",
        "        # Update parameters\n",
        "        optimizer.step()\n",
        "\n",
        "        # Track loss\n",
        "        running_loss += loss.item()\n",
        "\n",
        "        if (batch_idx + 1) % 100 == 0:\n",
        "            print(f'Epoch [{epoch+1}/{num_epochs}], Batch [{batch_idx+1}/{len(train_loader)}], Loss: {loss.item():.4f}')\n",
        "\n",
        "    # Calculate average loss for the epoch\n",
        "    epoch_loss = running_loss / len(train_loader)\n",
        "    train_losses.append(epoch_loss)\n",
        "\n",
        "    # Evaluate on test set\n",
        "    model.eval()\n",
        "    correct = 0\n",
        "    total = 0\n",
        "\n",
        "    with torch.no_grad():\n",
        "        for data, target in test_loader:\n",
        "            output = model(data)\n",
        "            _, predicted = torch.max(output.data, 1)\n",
        "            total += target.size(0)\n",
        "            correct += (predicted == target).sum().item()\n",
        "\n",
        "    accuracy = 100 * correct / total\n",
        "    test_accuracies.append(accuracy)\n",
        "\n",
        "    print(f'Epoch [{epoch+1}/{num_epochs}], Loss: {epoch_loss:.4f}, Test Accuracy: {accuracy:.2f}%')\n",
        "\n"
      ],
      "metadata": {
        "colab": {
          "base_uri": "https://localhost:8080/"
        },
        "id": "PN9BzQbmmBcB",
        "outputId": "2707229e-992d-4bf5-9a71-44e6680f7710"
      },
      "execution_count": null,
      "outputs": [
        {
          "output_type": "stream",
          "name": "stdout",
          "text": [
            "\n",
            "5. Residual Network (ResNet) Block:\n",
            "SmallResNet(\n",
            "  (conv1): Conv2d(1, 64, kernel_size=(3, 3), stride=(1, 1), padding=(1, 1), bias=False)\n",
            "  (bn1): BatchNorm2d(64, eps=1e-05, momentum=0.1, affine=True, track_running_stats=True)\n",
            "  (relu): ReLU(inplace=True)\n",
            "  (layer1): Sequential(\n",
            "    (0): ResidualBlock(\n",
            "      (conv1): Conv2d(64, 64, kernel_size=(3, 3), stride=(1, 1), padding=(1, 1), bias=False)\n",
            "      (bn1): BatchNorm2d(64, eps=1e-05, momentum=0.1, affine=True, track_running_stats=True)\n",
            "      (relu): ReLU(inplace=True)\n",
            "      (conv2): Conv2d(64, 64, kernel_size=(3, 3), stride=(1, 1), padding=(1, 1), bias=False)\n",
            "      (bn2): BatchNorm2d(64, eps=1e-05, momentum=0.1, affine=True, track_running_stats=True)\n",
            "      (shortcut): Sequential()\n",
            "    )\n",
            "    (1): ResidualBlock(\n",
            "      (conv1): Conv2d(64, 64, kernel_size=(3, 3), stride=(1, 1), padding=(1, 1), bias=False)\n",
            "      (bn1): BatchNorm2d(64, eps=1e-05, momentum=0.1, affine=True, track_running_stats=True)\n",
            "      (relu): ReLU(inplace=True)\n",
            "      (conv2): Conv2d(64, 64, kernel_size=(3, 3), stride=(1, 1), padding=(1, 1), bias=False)\n",
            "      (bn2): BatchNorm2d(64, eps=1e-05, momentum=0.1, affine=True, track_running_stats=True)\n",
            "      (shortcut): Sequential()\n",
            "    )\n",
            "  )\n",
            "  (layer2): Sequential(\n",
            "    (0): ResidualBlock(\n",
            "      (conv1): Conv2d(64, 128, kernel_size=(3, 3), stride=(2, 2), padding=(1, 1), bias=False)\n",
            "      (bn1): BatchNorm2d(128, eps=1e-05, momentum=0.1, affine=True, track_running_stats=True)\n",
            "      (relu): ReLU(inplace=True)\n",
            "      (conv2): Conv2d(128, 128, kernel_size=(3, 3), stride=(1, 1), padding=(1, 1), bias=False)\n",
            "      (bn2): BatchNorm2d(128, eps=1e-05, momentum=0.1, affine=True, track_running_stats=True)\n",
            "      (shortcut): Sequential(\n",
            "        (0): Conv2d(64, 128, kernel_size=(1, 1), stride=(2, 2), bias=False)\n",
            "        (1): BatchNorm2d(128, eps=1e-05, momentum=0.1, affine=True, track_running_stats=True)\n",
            "      )\n",
            "    )\n",
            "    (1): ResidualBlock(\n",
            "      (conv1): Conv2d(128, 128, kernel_size=(3, 3), stride=(1, 1), padding=(1, 1), bias=False)\n",
            "      (bn1): BatchNorm2d(128, eps=1e-05, momentum=0.1, affine=True, track_running_stats=True)\n",
            "      (relu): ReLU(inplace=True)\n",
            "      (conv2): Conv2d(128, 128, kernel_size=(3, 3), stride=(1, 1), padding=(1, 1), bias=False)\n",
            "      (bn2): BatchNorm2d(128, eps=1e-05, momentum=0.1, affine=True, track_running_stats=True)\n",
            "      (shortcut): Sequential()\n",
            "    )\n",
            "  )\n",
            "  (layer3): Sequential(\n",
            "    (0): ResidualBlock(\n",
            "      (conv1): Conv2d(128, 256, kernel_size=(3, 3), stride=(2, 2), padding=(1, 1), bias=False)\n",
            "      (bn1): BatchNorm2d(256, eps=1e-05, momentum=0.1, affine=True, track_running_stats=True)\n",
            "      (relu): ReLU(inplace=True)\n",
            "      (conv2): Conv2d(256, 256, kernel_size=(3, 3), stride=(1, 1), padding=(1, 1), bias=False)\n",
            "      (bn2): BatchNorm2d(256, eps=1e-05, momentum=0.1, affine=True, track_running_stats=True)\n",
            "      (shortcut): Sequential(\n",
            "        (0): Conv2d(128, 256, kernel_size=(1, 1), stride=(2, 2), bias=False)\n",
            "        (1): BatchNorm2d(256, eps=1e-05, momentum=0.1, affine=True, track_running_stats=True)\n",
            "      )\n",
            "    )\n",
            "    (1): ResidualBlock(\n",
            "      (conv1): Conv2d(256, 256, kernel_size=(3, 3), stride=(1, 1), padding=(1, 1), bias=False)\n",
            "      (bn1): BatchNorm2d(256, eps=1e-05, momentum=0.1, affine=True, track_running_stats=True)\n",
            "      (relu): ReLU(inplace=True)\n",
            "      (conv2): Conv2d(256, 256, kernel_size=(3, 3), stride=(1, 1), padding=(1, 1), bias=False)\n",
            "      (bn2): BatchNorm2d(256, eps=1e-05, momentum=0.1, affine=True, track_running_stats=True)\n",
            "      (shortcut): Sequential()\n",
            "    )\n",
            "  )\n",
            "  (avg_pool): AdaptiveAvgPool2d(output_size=(1, 1))\n",
            "  (fc): Linear(in_features=256, out_features=10, bias=True)\n",
            ")\n",
            "ResNet input shape: torch.Size([32, 1, 28, 28])\n",
            "ResNet output shape: torch.Size([32, 10])\n",
            "\n",
            "Training a model on MNIST:\n",
            "Epoch [1/20], Batch [100/938], Loss: 0.2247\n",
            "Epoch [1/20], Batch [200/938], Loss: 0.1265\n",
            "Epoch [1/20], Batch [300/938], Loss: 0.1174\n",
            "Epoch [1/20], Batch [400/938], Loss: 0.2065\n",
            "Epoch [1/20], Batch [500/938], Loss: 0.0931\n",
            "Epoch [1/20], Batch [600/938], Loss: 0.0575\n",
            "Epoch [1/20], Batch [700/938], Loss: 0.0594\n",
            "Epoch [1/20], Batch [800/938], Loss: 0.0536\n",
            "Epoch [1/20], Batch [900/938], Loss: 0.0883\n",
            "Epoch [1/20], Loss: 0.2054, Test Accuracy: 97.86%\n",
            "Epoch [2/20], Batch [100/938], Loss: 0.0163\n",
            "Epoch [2/20], Batch [200/938], Loss: 0.1403\n",
            "Epoch [2/20], Batch [300/938], Loss: 0.0235\n",
            "Epoch [2/20], Batch [400/938], Loss: 0.0528\n",
            "Epoch [2/20], Batch [500/938], Loss: 0.0605\n",
            "Epoch [2/20], Batch [600/938], Loss: 0.0200\n",
            "Epoch [2/20], Batch [700/938], Loss: 0.0196\n",
            "Epoch [2/20], Batch [800/938], Loss: 0.0371\n",
            "Epoch [2/20], Batch [900/938], Loss: 0.0144\n",
            "Epoch [2/20], Loss: 0.0590, Test Accuracy: 98.65%\n",
            "Epoch [3/20], Batch [100/938], Loss: 0.0082\n",
            "Epoch [3/20], Batch [200/938], Loss: 0.0191\n",
            "Epoch [3/20], Batch [300/938], Loss: 0.0354\n",
            "Epoch [3/20], Batch [400/938], Loss: 0.0516\n",
            "Epoch [3/20], Batch [500/938], Loss: 0.1395\n",
            "Epoch [3/20], Batch [600/938], Loss: 0.0419\n",
            "Epoch [3/20], Batch [700/938], Loss: 0.0319\n",
            "Epoch [3/20], Batch [800/938], Loss: 0.0154\n",
            "Epoch [3/20], Batch [900/938], Loss: 0.0143\n",
            "Epoch [3/20], Loss: 0.0435, Test Accuracy: 98.93%\n",
            "Epoch [4/20], Batch [100/938], Loss: 0.0117\n",
            "Epoch [4/20], Batch [200/938], Loss: 0.0179\n",
            "Epoch [4/20], Batch [300/938], Loss: 0.0452\n",
            "Epoch [4/20], Batch [400/938], Loss: 0.0864\n",
            "Epoch [4/20], Batch [500/938], Loss: 0.0455\n",
            "Epoch [4/20], Batch [600/938], Loss: 0.0081\n",
            "Epoch [4/20], Batch [700/938], Loss: 0.0053\n",
            "Epoch [4/20], Batch [800/938], Loss: 0.0110\n",
            "Epoch [4/20], Batch [900/938], Loss: 0.0060\n",
            "Epoch [4/20], Loss: 0.0351, Test Accuracy: 99.05%\n",
            "Epoch [5/20], Batch [100/938], Loss: 0.0076\n",
            "Epoch [5/20], Batch [200/938], Loss: 0.0186\n",
            "Epoch [5/20], Batch [300/938], Loss: 0.0099\n",
            "Epoch [5/20], Batch [400/938], Loss: 0.0192\n",
            "Epoch [5/20], Batch [500/938], Loss: 0.0913\n",
            "Epoch [5/20], Batch [600/938], Loss: 0.0097\n",
            "Epoch [5/20], Batch [700/938], Loss: 0.0178\n",
            "Epoch [5/20], Batch [800/938], Loss: 0.0047\n",
            "Epoch [5/20], Batch [900/938], Loss: 0.0531\n",
            "Epoch [5/20], Loss: 0.0304, Test Accuracy: 99.06%\n",
            "Epoch [6/20], Batch [100/938], Loss: 0.0386\n",
            "Epoch [6/20], Batch [200/938], Loss: 0.0501\n",
            "Epoch [6/20], Batch [300/938], Loss: 0.0411\n",
            "Epoch [6/20], Batch [400/938], Loss: 0.0145\n",
            "Epoch [6/20], Batch [500/938], Loss: 0.0317\n",
            "Epoch [6/20], Batch [600/938], Loss: 0.0012\n",
            "Epoch [6/20], Batch [700/938], Loss: 0.0240\n",
            "Epoch [6/20], Batch [800/938], Loss: 0.0275\n",
            "Epoch [6/20], Batch [900/938], Loss: 0.0168\n",
            "Epoch [6/20], Loss: 0.0252, Test Accuracy: 99.04%\n",
            "Epoch [7/20], Batch [100/938], Loss: 0.0121\n",
            "Epoch [7/20], Batch [200/938], Loss: 0.0014\n",
            "Epoch [7/20], Batch [300/938], Loss: 0.0032\n",
            "Epoch [7/20], Batch [400/938], Loss: 0.0291\n",
            "Epoch [7/20], Batch [500/938], Loss: 0.0120\n",
            "Epoch [7/20], Batch [600/938], Loss: 0.0024\n",
            "Epoch [7/20], Batch [700/938], Loss: 0.0380\n",
            "Epoch [7/20], Batch [800/938], Loss: 0.0284\n",
            "Epoch [7/20], Batch [900/938], Loss: 0.0115\n",
            "Epoch [7/20], Loss: 0.0206, Test Accuracy: 99.02%\n",
            "Epoch [8/20], Batch [100/938], Loss: 0.0011\n",
            "Epoch [8/20], Batch [200/938], Loss: 0.0200\n",
            "Epoch [8/20], Batch [300/938], Loss: 0.0591\n",
            "Epoch [8/20], Batch [400/938], Loss: 0.0020\n",
            "Epoch [8/20], Batch [500/938], Loss: 0.0040\n",
            "Epoch [8/20], Batch [600/938], Loss: 0.0048\n",
            "Epoch [8/20], Batch [700/938], Loss: 0.0217\n",
            "Epoch [8/20], Batch [800/938], Loss: 0.0972\n",
            "Epoch [8/20], Batch [900/938], Loss: 0.0012\n",
            "Epoch [8/20], Loss: 0.0175, Test Accuracy: 99.02%\n",
            "Epoch [9/20], Batch [100/938], Loss: 0.0015\n",
            "Epoch [9/20], Batch [200/938], Loss: 0.0040\n",
            "Epoch [9/20], Batch [300/938], Loss: 0.0261\n",
            "Epoch [9/20], Batch [400/938], Loss: 0.0054\n",
            "Epoch [9/20], Batch [500/938], Loss: 0.0222\n",
            "Epoch [9/20], Batch [600/938], Loss: 0.0013\n",
            "Epoch [9/20], Batch [700/938], Loss: 0.0307\n",
            "Epoch [9/20], Batch [800/938], Loss: 0.0065\n",
            "Epoch [9/20], Batch [900/938], Loss: 0.0265\n",
            "Epoch [9/20], Loss: 0.0169, Test Accuracy: 98.63%\n",
            "Epoch [10/20], Batch [100/938], Loss: 0.0531\n",
            "Epoch [10/20], Batch [200/938], Loss: 0.0004\n",
            "Epoch [10/20], Batch [300/938], Loss: 0.0081\n",
            "Epoch [10/20], Batch [400/938], Loss: 0.0209\n",
            "Epoch [10/20], Batch [500/938], Loss: 0.0013\n",
            "Epoch [10/20], Batch [600/938], Loss: 0.0018\n",
            "Epoch [10/20], Batch [700/938], Loss: 0.0022\n",
            "Epoch [10/20], Batch [800/938], Loss: 0.0023\n",
            "Epoch [10/20], Batch [900/938], Loss: 0.0210\n",
            "Epoch [10/20], Loss: 0.0127, Test Accuracy: 99.14%\n",
            "Epoch [11/20], Batch [100/938], Loss: 0.0023\n",
            "Epoch [11/20], Batch [200/938], Loss: 0.0003\n",
            "Epoch [11/20], Batch [300/938], Loss: 0.0009\n",
            "Epoch [11/20], Batch [400/938], Loss: 0.0065\n",
            "Epoch [11/20], Batch [500/938], Loss: 0.0036\n",
            "Epoch [11/20], Batch [600/938], Loss: 0.0031\n",
            "Epoch [11/20], Batch [700/938], Loss: 0.0264\n",
            "Epoch [11/20], Batch [800/938], Loss: 0.0006\n",
            "Epoch [11/20], Batch [900/938], Loss: 0.0019\n",
            "Epoch [11/20], Loss: 0.0131, Test Accuracy: 99.17%\n",
            "Epoch [12/20], Batch [100/938], Loss: 0.0067\n",
            "Epoch [12/20], Batch [200/938], Loss: 0.0003\n",
            "Epoch [12/20], Batch [300/938], Loss: 0.0144\n",
            "Epoch [12/20], Batch [400/938], Loss: 0.0098\n",
            "Epoch [12/20], Batch [500/938], Loss: 0.0106\n",
            "Epoch [12/20], Batch [600/938], Loss: 0.0019\n",
            "Epoch [12/20], Batch [700/938], Loss: 0.0119\n",
            "Epoch [12/20], Batch [800/938], Loss: 0.0007\n",
            "Epoch [12/20], Batch [900/938], Loss: 0.0044\n",
            "Epoch [12/20], Loss: 0.0108, Test Accuracy: 99.11%\n",
            "Epoch [13/20], Batch [100/938], Loss: 0.0383\n",
            "Epoch [13/20], Batch [200/938], Loss: 0.0068\n",
            "Epoch [13/20], Batch [300/938], Loss: 0.0022\n",
            "Epoch [13/20], Batch [400/938], Loss: 0.0001\n",
            "Epoch [13/20], Batch [500/938], Loss: 0.0007\n",
            "Epoch [13/20], Batch [600/938], Loss: 0.0068\n",
            "Epoch [13/20], Batch [700/938], Loss: 0.0004\n",
            "Epoch [13/20], Batch [800/938], Loss: 0.0053\n",
            "Epoch [13/20], Batch [900/938], Loss: 0.0011\n",
            "Epoch [13/20], Loss: 0.0091, Test Accuracy: 98.94%\n",
            "Epoch [14/20], Batch [100/938], Loss: 0.0003\n",
            "Epoch [14/20], Batch [200/938], Loss: 0.0037\n",
            "Epoch [14/20], Batch [300/938], Loss: 0.0000\n",
            "Epoch [14/20], Batch [400/938], Loss: 0.0201\n",
            "Epoch [14/20], Batch [500/938], Loss: 0.0399\n",
            "Epoch [14/20], Batch [600/938], Loss: 0.0081\n",
            "Epoch [14/20], Batch [700/938], Loss: 0.0017\n",
            "Epoch [14/20], Batch [800/938], Loss: 0.0073\n",
            "Epoch [14/20], Batch [900/938], Loss: 0.0355\n",
            "Epoch [14/20], Loss: 0.0108, Test Accuracy: 99.05%\n",
            "Epoch [15/20], Batch [100/938], Loss: 0.0396\n",
            "Epoch [15/20], Batch [200/938], Loss: 0.0227\n",
            "Epoch [15/20], Batch [300/938], Loss: 0.0006\n",
            "Epoch [15/20], Batch [400/938], Loss: 0.0209\n",
            "Epoch [15/20], Batch [500/938], Loss: 0.0048\n",
            "Epoch [15/20], Batch [600/938], Loss: 0.0159\n",
            "Epoch [15/20], Batch [700/938], Loss: 0.0006\n",
            "Epoch [15/20], Batch [800/938], Loss: 0.0000\n",
            "Epoch [15/20], Batch [900/938], Loss: 0.0008\n",
            "Epoch [15/20], Loss: 0.0072, Test Accuracy: 99.08%\n",
            "Epoch [16/20], Batch [100/938], Loss: 0.0006\n",
            "Epoch [16/20], Batch [200/938], Loss: 0.0007\n",
            "Epoch [16/20], Batch [300/938], Loss: 0.0068\n",
            "Epoch [16/20], Batch [400/938], Loss: 0.0051\n",
            "Epoch [16/20], Batch [500/938], Loss: 0.0001\n",
            "Epoch [16/20], Batch [600/938], Loss: 0.0032\n",
            "Epoch [16/20], Batch [700/938], Loss: 0.0035\n",
            "Epoch [16/20], Batch [800/938], Loss: 0.0001\n",
            "Epoch [16/20], Batch [900/938], Loss: 0.0214\n",
            "Epoch [16/20], Loss: 0.0087, Test Accuracy: 99.18%\n",
            "Epoch [17/20], Batch [100/938], Loss: 0.0004\n",
            "Epoch [17/20], Batch [200/938], Loss: 0.0029\n",
            "Epoch [17/20], Batch [300/938], Loss: 0.0004\n",
            "Epoch [17/20], Batch [400/938], Loss: 0.0004\n",
            "Epoch [17/20], Batch [500/938], Loss: 0.0432\n",
            "Epoch [17/20], Batch [600/938], Loss: 0.0002\n",
            "Epoch [17/20], Batch [700/938], Loss: 0.0030\n",
            "Epoch [17/20], Batch [800/938], Loss: 0.0002\n",
            "Epoch [17/20], Batch [900/938], Loss: 0.0181\n",
            "Epoch [17/20], Loss: 0.0064, Test Accuracy: 98.95%\n",
            "Epoch [18/20], Batch [100/938], Loss: 0.0061\n",
            "Epoch [18/20], Batch [200/938], Loss: 0.0004\n",
            "Epoch [18/20], Batch [300/938], Loss: 0.0042\n",
            "Epoch [18/20], Batch [400/938], Loss: 0.0003\n",
            "Epoch [18/20], Batch [500/938], Loss: 0.0001\n",
            "Epoch [18/20], Batch [600/938], Loss: 0.0000\n",
            "Epoch [18/20], Batch [700/938], Loss: 0.0126\n",
            "Epoch [18/20], Batch [800/938], Loss: 0.0002\n",
            "Epoch [18/20], Batch [900/938], Loss: 0.0002\n",
            "Epoch [18/20], Loss: 0.0061, Test Accuracy: 99.17%\n",
            "Epoch [19/20], Batch [100/938], Loss: 0.0020\n",
            "Epoch [19/20], Batch [200/938], Loss: 0.0043\n",
            "Epoch [19/20], Batch [300/938], Loss: 0.0015\n",
            "Epoch [19/20], Batch [400/938], Loss: 0.0962\n",
            "Epoch [19/20], Batch [500/938], Loss: 0.0004\n",
            "Epoch [19/20], Batch [600/938], Loss: 0.0000\n",
            "Epoch [19/20], Batch [700/938], Loss: 0.0001\n",
            "Epoch [19/20], Batch [800/938], Loss: 0.0007\n",
            "Epoch [19/20], Batch [900/938], Loss: 0.0004\n",
            "Epoch [19/20], Loss: 0.0091, Test Accuracy: 99.02%\n",
            "Epoch [20/20], Batch [100/938], Loss: 0.0004\n",
            "Epoch [20/20], Batch [200/938], Loss: 0.0004\n",
            "Epoch [20/20], Batch [300/938], Loss: 0.0002\n",
            "Epoch [20/20], Batch [400/938], Loss: 0.0000\n",
            "Epoch [20/20], Batch [500/938], Loss: 0.0015\n",
            "Epoch [20/20], Batch [600/938], Loss: 0.0017\n",
            "Epoch [20/20], Batch [700/938], Loss: 0.0002\n",
            "Epoch [20/20], Batch [800/938], Loss: 0.0000\n",
            "Epoch [20/20], Batch [900/938], Loss: 0.0001\n",
            "Epoch [20/20], Loss: 0.0058, Test Accuracy: 99.02%\n"
          ]
        }
      ]
    },
    {
      "cell_type": "code",
      "source": [
        "# Plot training progress\n",
        "plt.figure(figsize=(12, 5))\n",
        "\n",
        "# Plot 1: Training Loss\n",
        "plt.subplot(1, 2, 1)\n",
        "plt.plot(train_losses)\n",
        "plt.title('Training Loss')\n",
        "plt.xlabel('Epoch')\n",
        "plt.ylabel('Loss')\n",
        "plt.grid(True)\n",
        "\n",
        "# Plot 2: Test Accuracy\n",
        "plt.subplot(1, 2, 2)\n",
        "plt.plot(test_accuracies)\n",
        "plt.title('Test Accuracy')\n",
        "plt.xlabel('Epoch')\n",
        "plt.ylabel('Accuracy (%)')\n",
        "plt.grid(True)\n",
        "\n",
        "plt.tight_layout()\n",
        "plt.show()\n",
        "\n",
        "# Visualize some predictions\n",
        "model.eval()\n",
        "\n",
        "# Get a batch of test data\n",
        "dataiter = iter(test_loader)\n",
        "images, labels = next(dataiter)\n",
        "\n",
        "# Get predictions\n",
        "outputs = model(images)\n",
        "_, predicted = torch.max(outputs, 1)\n",
        "\n",
        "# Plot the first 10 images with their predictions\n",
        "plt.figure(figsize=(15, 4))\n",
        "for i in range(10):\n",
        "    plt.subplot(1, 10, i+1)\n",
        "    plt.imshow(images[i][0], cmap='gray')\n",
        "    plt.title(f'Pred: {predicted[i]}')\n",
        "    plt.axis('off')\n",
        "\n",
        "plt.tight_layout()\n",
        "plt.show()\n",
        "\n",
        "print(\"\\nNeural Networks with PyTorch Tutorial Completed!\")\n",
        "\n",
        "# Additional learning resources\n",
        "print(\"\\nAdditional Resources:\")\n",
        "print(\"- PyTorch Documentation: https://pytorch.org/docs/stable/index.html\")\n",
        "print(\"- PyTorch Tutorials: https://pytorch.org/tutorials/\")\n",
        "print(\"- Deep Learning with PyTorch Book: https://pytorch.org/deep-learning-with-pytorch\")"
      ],
      "metadata": {
        "colab": {
          "base_uri": "https://localhost:8080/",
          "height": 804
        },
        "id": "ueAGowAwmdty",
        "outputId": "9b2ef501-4025-41fb-ca1d-44aa15d38387"
      },
      "execution_count": null,
      "outputs": [
        {
          "output_type": "display_data",
          "data": {
            "text/plain": [
              "<Figure size 1200x500 with 2 Axes>"
            ],
            "image/png": "[encoded data removed]"
          },
          "metadata": {}
        },
        {
          "output_type": "display_data",
          "data": {
            "text/plain": [
              "<Figure size 1500x400 with 10 Axes>"
            ],
            "image/png": "[encoded data removed]"
          },
          "metadata": {}
        },
        {
          "output_type": "stream",
          "name": "stdout",
          "text": [
            "\n",
            "Neural Networks with PyTorch Tutorial Completed!\n",
            "\n",
            "Additional Resources:\n",
            "- PyTorch Documentation: https://pytorch.org/docs/stable/index.html\n",
            "- PyTorch Tutorials: https://pytorch.org/tutorials/\n",
            "- Deep Learning with PyTorch Book: https://pytorch.org/deep-learning-with-pytorch\n"
          ]
        }
      ]
    }
  ]
}